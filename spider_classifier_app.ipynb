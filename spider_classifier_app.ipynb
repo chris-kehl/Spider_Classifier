{
  "nbformat": 4,
  "nbformat_minor": 0,
  "metadata": {
    "colab": {
      "name": "spider_classifier_app.ipynb",
      "provenance": [],
      "authorship_tag": "ABX9TyOz/VhHTF/322D2EYjqW+dB",
      "include_colab_link": true
    },
    "kernelspec": {
      "name": "python3",
      "display_name": "Python 3"
    },
    "language_info": {
      "name": "python"
    },
    "accelerator": "GPU",
    "widgets": {
      "application/vnd.jupyter.widget-state+json": {
        "dc0430384ea147a485c0f1b6b49994cf": {
          "model_module": "@jupyter-widgets/controls",
          "model_name": "VBoxModel",
          "model_module_version": "1.5.0",
          "state": {
            "_view_name": "VBoxView",
            "_dom_classes": [],
            "_model_name": "VBoxModel",
            "_view_module": "@jupyter-widgets/controls",
            "_model_module_version": "1.5.0",
            "_view_count": null,
            "_view_module_version": "1.5.0",
            "box_style": "",
            "layout": "IPY_MODEL_f9b915adda814600bbadc54a0c095fee",
            "_model_module": "@jupyter-widgets/controls",
            "children": [
              "IPY_MODEL_5e3be7e99dc94699bf2c15fc77219478",
              "IPY_MODEL_45d0aaf9b05b46e380df143b7c2e6902",
              "IPY_MODEL_7a8c7bdb887449498ad02a60628d204d",
              "IPY_MODEL_caac3ff5939a4856b649d5a335ce92fe",
              "IPY_MODEL_692d2990491e439a8bff3741a6df5485"
            ]
          }
        },
        "f9b915adda814600bbadc54a0c095fee": {
          "model_module": "@jupyter-widgets/base",
          "model_name": "LayoutModel",
          "model_module_version": "1.2.0",
          "state": {
            "_view_name": "LayoutView",
            "grid_template_rows": null,
            "right": null,
            "justify_content": null,
            "_view_module": "@jupyter-widgets/base",
            "overflow": null,
            "_model_module_version": "1.2.0",
            "_view_count": null,
            "flex_flow": null,
            "width": null,
            "min_width": null,
            "border": null,
            "align_items": null,
            "bottom": null,
            "_model_module": "@jupyter-widgets/base",
            "top": null,
            "grid_column": null,
            "overflow_y": null,
            "overflow_x": null,
            "grid_auto_flow": null,
            "grid_area": null,
            "grid_template_columns": null,
            "flex": null,
            "_model_name": "LayoutModel",
            "justify_items": null,
            "grid_row": null,
            "max_height": null,
            "align_content": null,
            "visibility": null,
            "align_self": null,
            "height": null,
            "min_height": null,
            "padding": null,
            "grid_auto_rows": null,
            "grid_gap": null,
            "max_width": null,
            "order": null,
            "_view_module_version": "1.2.0",
            "grid_template_areas": null,
            "object_position": null,
            "object_fit": null,
            "grid_auto_columns": null,
            "margin": null,
            "display": null,
            "left": null
          }
        },
        "5e3be7e99dc94699bf2c15fc77219478": {
          "model_module": "@jupyter-widgets/controls",
          "model_name": "LabelModel",
          "model_module_version": "1.5.0",
          "state": {
            "_view_name": "LabelView",
            "style": "IPY_MODEL_bee71c267d134c6bafd6c32417d50138",
            "_dom_classes": [],
            "description": "",
            "_model_name": "LabelModel",
            "placeholder": "​",
            "_view_module": "@jupyter-widgets/controls",
            "_model_module_version": "1.5.0",
            "value": "Select your spider!",
            "_view_count": null,
            "_view_module_version": "1.5.0",
            "description_tooltip": null,
            "_model_module": "@jupyter-widgets/controls",
            "layout": "IPY_MODEL_47e97097cf8e4c48aafad5d0ff069ebd"
          }
        },
        "45d0aaf9b05b46e380df143b7c2e6902": {
          "model_module": "@jupyter-widgets/controls",
          "model_name": "FileUploadModel",
          "model_module_version": "1.5.0",
          "state": {
            "_view_name": "FileUploadView",
            "_counter": 1,
            "style": "IPY_MODEL_6e2f7b2b95eb4230899656a57c2c11bf",
            "_dom_classes": [],
            "description": "Upload",
            "multiple": false,
            "_model_name": "FileUploadModel",
            "data": [
              null
            ],
            "button_style": "",
            "_view_module": "@jupyter-widgets/controls",
            "_model_module_version": "1.5.0",
            "accept": "",
            "_view_count": null,
            "disabled": false,
            "_view_module_version": "1.5.0",
            "error": "",
            "description_tooltip": null,
            "metadata": [
              {
                "name": "garden.png",
                "type": "image/png",
                "size": 937552,
                "lastModified": 1629543959000
              }
            ],
            "_model_module": "@jupyter-widgets/controls",
            "layout": "IPY_MODEL_6544ce6129d2441e87b2866f4d2066be",
            "icon": "upload"
          }
        },
        "7a8c7bdb887449498ad02a60628d204d": {
          "model_module": "@jupyter-widgets/controls",
          "model_name": "ButtonModel",
          "model_module_version": "1.5.0",
          "state": {
            "_view_name": "ButtonView",
            "style": "IPY_MODEL_dc7ff8ec99d54d93a705da9a867703dd",
            "_dom_classes": [],
            "description": "Classify",
            "_model_name": "ButtonModel",
            "button_style": "",
            "_view_module": "@jupyter-widgets/controls",
            "_model_module_version": "1.5.0",
            "tooltip": "",
            "_view_count": null,
            "disabled": false,
            "_view_module_version": "1.5.0",
            "layout": "IPY_MODEL_beb31ed6133443d39e10f1691dad5bf8",
            "_model_module": "@jupyter-widgets/controls",
            "icon": ""
          }
        },
        "caac3ff5939a4856b649d5a335ce92fe": {
          "model_module": "@jupyter-widgets/output",
          "model_name": "OutputModel",
          "model_module_version": "1.0.0",
          "state": {
            "_view_name": "OutputView",
            "msg_id": "",
            "_dom_classes": [],
            "_model_name": "OutputModel",
            "outputs": [
              {
                "output_type": "display_data",
                "data": {
                  "image/png": "iVBORw0KGgoAAAANSUhEUgAAAIAAAABxCAIAAACSkjwgAAAMaGlDQ1BJQ0MgUHJvZmlsZQAAeJyVVwdUU8kanltSSWiBCEgJvQnSq5QQWgABqYKNkAQSSgwJQcVeFhVcKyKKFV0Vsa2ugKwFsZdFsPfFgoqyLuqiKCpvQgK67ivn/efMnS/f/PO3O5M7A4BWL08qzUO1AciXFMoSIkJYY9PSWaQOQAY0oAfoQIPHl0vZ8fExAMpg/3d5dwMgyv6qk9LWP8f/q+gKhHI+AMh4iDMFcn4+xE0A4Ov5UlkhAEQlbzmlUKrEcyDWk8EAIS5X4mwV3qnEmSp8ZEAnKYEDcSsAZBqPJ8sGQPMe5FlF/GxoR/MTxC4SgVgCgNYIiAP5Ip4AYmXsI/LzJytxJcR2UF8KMYwH+GR+YzP7b/Yzh+zzeNlDWJXXgJBDxXJpHm/a/1ma/y35eYpBHzaw0USyyARl/rCGt3InRysxDeIuSWZsnLLWEPeKBaq6A4BSRYrIZJU+asyXc2D9ABNiFwEvNBpiY4jDJXmxMWo+M0sczoUYrhZ0qriQmwSxAcSLhPKwRLXOZtnkBLUvtC5LxmGr+XM82YBfpa8Hitxkttr+G5GQq7aPaRaLklIhpkJsVSROiYVYE2JneW5itFpnVLGIEzuoI1MkKOO3gjhBKIkIUdnHirJk4Qlq/dJ8+WC+2GaRmBurxgcKRUmRqvpgp/i8gfhhLlirUMJOHrQjlI+NGcxFIAwNU+WOPRdKkhPVdnqlhSEJqrk4VZoXr9bHLYR5EUreAmIPeVGiei6eUggXp8o+niUtjE9SxYkX5/Ci4lXx4MtBDOCAUMACCtgywWSQA8QtXfVd8JdqJBzwgAxkAyFwUjODM1IHRiTwmQiKwR8QCYF8aF7IwKgQFEH+8xCrejqBrIHRooEZueApxPkgGuTB34qBWZIhbyngCWTE//DOg40P482DTTn+7/lB9ivDhkyMmlEMemRpDWoSw4ihxEhiONEeN8IDcX88Bj6DYXPDfXDfwTy+6hOeEtoIjwjXCe2E25PE82TfRTkatEP74epaZH5bC9wG2vTEQ/AAaB1axpm4EXDCPaAfNh4EPXtClqOOW1kV1ne2/5bBN29DrUdxoaCUYZRgit33MzUdND2HrChr/W19VLFmDtWbMzTyvX/ON9UXwD76e01sEXYQO4udwM5jR7B6wMKOYw3YJeyoEg+tricDq2vQW8JAPLnQjvgf/nhqn8pKyl1qXTpdPqnGCoVTC5UbjzNZOk0mzhYVstjw6yBkcSV85xEsNxc3VwCU3xrV39db5sA3BGFe+MoVNAHgWwrJ7K8czxKAw08BYLz7ylm+gdtmOQBHW/kKWZGKw5UPAvyX0II7zRCYAktgB/NxA17AHwSDMBAF4kASSAMTYZVFcJ3LwBQwA8wFJaAMLAerwTqwCWwFO8EecADUgyPgBDgDLoJWcB3chaunA7wE3eAd6EMQhITQEQZiiJgh1ogj4ob4IIFIGBKDJCBpSAaSjUgQBTIDmY+UISuRdcgWpAb5GTmMnEDOI23IbeQh0om8QT6iGEpD9VAT1AYdifqgbDQaTUInoNloAVqMLkCXopVoNbobrUNPoBfR62g7+hLtwQCmgTExc8wJ88E4WByWjmVhMmwWVopVYNXYXqwRvuerWDvWhX3AiTgDZ+FOcAVH4sk4Hy/AZ+FL8HX4TrwOP4VfxR/i3fgXAp1gTHAk+BG4hLGEbMIUQgmhgrCdcIhwGu6lDsI7IpHIJNoSveFeTCPmEKcTlxA3EPcRm4htxMfEHhKJZEhyJAWQ4kg8UiGphLSWtJt0nHSF1EHqJWuQzchu5HByOllCnkeuIO8iHyNfIT8j91G0KdYUP0ocRUCZRllG2UZppFymdFD6qDpUW2oANYmaQ51LraTupZ6m3qO+1dDQsNDw1RijIdaYo1GpsV/jnMZDjQ80XZoDjUMbT1PQltJ20Jpot2lv6XS6DT2Ynk4vpC+l19BP0h/QezUZms6aXE2B5mzNKs06zSuar7QoWtZabK2JWsVaFVoHtS5rdWlTtG20Odo87VnaVdqHtW9q9+gwdFx14nTydZbo7NI5r/Ncl6RroxumK9BdoLtV96TuYwbGsGRwGHzGfMY2xmlGhx5Rz1aPq5ejV6a3R69Fr1tfV99DP0V/qn6V/lH9dibGtGFymXnMZcwDzBvMj8NMhrGHCYctHrZ32JVh7w2GGwQbCA1KDfYZXDf4aMgyDDPMNVxhWG943wg3cjAaYzTFaKPRaaOu4XrD/Yfzh5cOPzD8jjFq7GCcYDzdeKvxJeMeE1OTCBOpyVqTkyZdpkzTYNMc03LTY6adZgyzQDOxWbnZcbMXLH0Wm5XHqmSdYnWbG5tHmivMt5i3mPdZ2FokW8yz2Gdx35Jq6WOZZVlu2WzZbWVmNdpqhlWt1R1rirWPtch6jfVZ6/c2tjapNgtt6m2e2xrYcm2LbWtt79nR7YLsCuyq7a7ZE+197HPtN9i3OqAOng4ihyqHy46oo5ej2HGDY9sIwgjfEZIR1SNuOtGc2E5FTrVOD52ZzjHO85zrnV+NtBqZPnLFyLMjv7h4uuS5bHO566rrGuU6z7XR9Y2bgxvfrcrtmjvdPdx9tnuD+2sPRw+hx0aPW54Mz9GeCz2bPT97eXvJvPZ6dXpbeWd4r/e+6aPnE++zxOecL8E3xHe27xHfD35efoV+B/z+9Hfyz/Xf5f98lO0o4ahtox4HWATwArYEtAeyAjMCNwe2B5kH8YKqgx4FWwYLgrcHP2Pbs3PYu9mvQlxCZCGHQt5z/DgzOU2hWGhEaGloS5huWHLYurAH4Rbh2eG14d0RnhHTI5oiCZHRkSsib3JNuHxuDbc7yjtqZtSpaFp0YvS66EcxDjGymMbR6Oio0atG34u1jpXE1seBOG7cqrj78bbxBfG/jiGOiR9TNeZpgmvCjISziYzESYm7Et8lhSQtS7qbbJesSG5O0UoZn1KT8j41NHVlavvYkWNnjr2YZpQmTmtIJ6WnpG9P7xkXNm71uI7xnuNLxt+YYDth6oTzE40m5k08OklrEm/SwQxCRmrGroxPvDheNa8nk5u5PrObz+Gv4b8UBAvKBZ3CAOFK4bOsgKyVWc+zA7JXZXeKgkQVoi4xR7xO/DonMmdTzvvcuNwduf15qXn78sn5GfmHJbqSXMmpyaaTp05ukzpKS6TtBX4Fqwu6ZdGy7XJEPkHeUKgHD/WXFHaKHxQPiwKLqop6p6RMOThVZ6pk6qVpDtMWT3tWHF7803R8On968wzzGXNnPJzJnrllFjIrc1bzbMvZC2Z3zImYs3MudW7u3N/mucxbOe+v+anzGxeYLJiz4PEPET/UlmiWyEpuLvRfuGkRvki8qGWx++K1i7+UCkovlLmUVZR9WsJfcuFH1x8rf+xfmrW0ZZnXso3Licsly2+sCFqxc6XOyuKVj1eNXlVXziovLf9r9aTV5ys8Kjatoa5RrGmvjKlsWGu1dvnaT+tE665XhVTtW2+8fvH69xsEG65sDN64d5PJprJNHzeLN9/aErGlrtqmumIrcWvR1qfbUrad/cnnp5rtRtvLtn/eIdnRvjNh56ka75qaXca7ltWitYrazt3jd7fuCd3TsNdp75Z9zH1l+8F+xf4XP2f8fONA9IHmgz4H9/5i/cv6Q4xDpXVI3bS67npRfXtDWkPb4ajDzY3+jYd+df51xxHzI1VH9Y8uO0Y9tuBY//Hi4z1N0qauE9knHjdPar57cuzJa6fGnGo5HX363JnwMyfPss8ePxdw7sh5v/OHL/hcqL/odbHukuelQ795/naoxaul7rL35YZW39bGtlFtx64EXTlxNfTqmWvcaxevx15vu5F849bN8TfbbwluPb+dd/v1naI7fXfn3CPcK72vfb/igfGD6t/tf9/X7tV+9GHow0uPEh/dfcx//PKJ/MmnjgVP6U8rnpk9q3nu9vxIZ3hn64txLzpeSl/2dZX8ofPH+ld2r375M/jPS91juztey173v1ny1vDtjr88/mruie958C7/Xd/70l7D3p0ffD6c/Zj68VnflE+kT5Wf7T83fon+cq8/v79fypPxBo4CGGxoVhYAb3YAQE+DZwd4b6OOU90FBwRR3V8HEPhPWHVfHBAvAHYEA5A8B4AYeEbZCJs1xDTYK4/wScEAdXcfamqRZ7m7qWzR4E2I0Nvf/9YEAFIjAJ9l/f19G/r7P2+Dwd4GoKlAdQdVChHeGTY7KNHlUYZzwHeiup9+k+P3PVBG4AG+7/8FjGKOM2+yf7wAAACKZVhJZk1NACoAAAAIAAQBGgAFAAAAAQAAAD4BGwAFAAAAAQAAAEYBKAADAAAAAQACAACHaQAEAAAAAQAAAE4AAAAAAAAAkAAAAAEAAACQAAAAAQADkoYABwAAABIAAAB4oAIABAAAAAEAAAOioAMABAAAAAEAAAM0AAAAAEFTQ0lJAAAAU2NyZWVuc2hvdCujqP8AAEAsSURBVHicdb1psGXHcSaWmVXn3vv21/uKRmMlVmIjFgISF5AExU2kthlqJM+MJkahGf1w2BHjH/7nCOuH7YgJ/5LlCXmosRiSRqRlihJJUQQ3AQRA7ASxs9HdAHpHr+/12+49pzL9IzOr6ryGXzca9917bp2qXL78Mms5eObISwIAIgKAiLD5RwDymyLS+wwR8qeC+QtSvicACAiYv4mIDCAgZJcKajPesoggooAgEKA17N+WQIOte/YlgPHK5bXlZU4dxbh1z57l8+fHa5cR8f2G0Ou+tm+XebcQQQSIMItBBOwSYBEhonx5voVfhvYRAmqPQRB63agEleUpiAiAxIiAYH16n86/31vW/6KNnvSl/qSSLJiiUYT8mve9pYAIgKCAiP0CIigCQIEwBE7t6tJF4RYQpmZmCYm7lqiMEk2rpcPeESEi/5WldBQRUQRqCzNpAxGRfnuTcqUeGpax1IPynuR30G6KqN8mAVSVCWWB5ZvVCpdiFKKvUeWTG9/sILL5/WrAJv7qljp8YRAGbVzUZAEEEAEJkVLqJhtrqW1TSiIwGE3Pbt22trLKSQQRENhtGq74QQRE8tcCIPqbi7WIWASQVCUMWDeople8edNI+yPPX8y2LyCIQACAroGIAIKEBAQgwABopiLvP4z6xogFZ8R8yl5nbVWd6xll7yM1clRRb7oK0XsEgCKysboympnBEAbD6cVde1Lbri2vIJGkYh5XdFmq5qp2y7/ZnBVWAATZWkTIMhcE7GGyda7u9PsqyFonNPG6VoQj9BzEBYWmeERgtq/jFRLV39AFJ3UTaipS8Ki+R4ZO88iqZQ0Ala9ABcsCCJPxxnA4Wty2c2pugQUunTvPzPNbFtcuL3WTMeReYIZbZBS9Fbiu1QTz0B18BEAQAVBYpIft1mY9RP8yQuUV1t2sBgFBcxwyMyvKEkAgBKSMXdoYuWkDMLOIqGzRf3riB7jC4FCbRSTITl59SUShAL0PVWPoUSTr23piNxGRLnVd2w2nZwFDNx4D0Oz84mhuoWmmQhwAEhKKW4MY7iEAMAqDeNBnEGC2dj26AiIICgAiaQf+f6N6f0h16KudW0deDQA00hgrEcZIWDkVBhAWZkEQFjQU7kk9e6v2z70D2EI/Kc6B8Q0ACCKcI7xBE7Irw28uUpuRCc00r3pCwygBiiE0QwCi2Cxu296MRmsrK4lhOD2XurZt15g7kAoShSv1iw6IWdzOLCo7GxERIQhVV8SIDZY4Jta+mBc7YGTbVyvMPKtWngpEP4msQysBE0QIQTh16k1ECjDksldRoPkToVkZW1BDQJVy7hpSYV9O1DLJMJR1lWuIqkaYfdlUhYCwuryM1EwvbItNI0EAoOs6GjTNaBQTyxqnjZXaPLNiFd/YYBt71MXis8YydM/QS7jE6SzfAhuiErSmGHzwdRztRY7aymISQQU3pXwiwiLCwMAsSIAYEEkKxKvkBZV7qg6EkTxgVTKuOYODKVqfgbM5aUuZUHsjWMVGqG2wS+3a8oUYBxgaSdxMjaZmZwIRhdC1k421y2IR3YVS6b4CdJcUGOkiQhETYvbjEjDRdGmcVP/LYF3fLLPy8oP91+L2ABEAmRVqGAHVz1mtjzwaSKVSBLFwCGpEwgwASD4Y9TvMAzZQMr2ID83hFkDTMuUeQkiiYkBwVEIXl3iEw5Q6Se1gegaQAKihwNyCSNd2LImQAFiHyMJZc3VstPEokenHMSHPP8x81TkcNiuszGmjCtQUYhxawSMbLdig9X1/JzrdBgBLj5QEc6YFDGyUyBiaAr1arPFuAWEBRPJ0JueviGgDIiBTp36Hqt67pIkyyCKoY/sf8x5nSoIrK5cwhGYwNWm7EIOAMGKXOiRCpAwhiMFMGsxrpQTmSjZ+NTvtEmNlhqUgZKErOw1IRYuoQhlxb67M3llTFUQBACMnTy7QQq4ACqIihJq2hWIhsBwVGDxLcaWDAAkkj1kuQ4CkboUmWbVoZiVIRgbE44QPwLmIirzK7D0aC8J4MuFL5yhEEBDBmfktoRl2bcdJRACJhLmqahjoKTMQlBJRNyUfbsJQ2HgNKkoryWzLxoNsGOSByhSVAwxsaj9/GrPm1WgRUY1ZUDuJSQSRVAZWIjD3RXH6LwyIkET5hnFJv4lCvkhCdPItgCjZfAQBmFXgbOANolIwLHKOJYDsugGAruug6wBDM5hGCjHGQAGEAZ2rABCSxjZUJZt9EyISAYgwcxYUO625oqqDtUAF1ApsfGJ8rcQb6L/KpYCaTur/Yr4CkTwBIsUaIRG18aJc6oMaisFNTmQgxwq/RPWBAMAsiIJEgAQiSTMMVbkgIgkweGYgAiIcvOCBDll6d2ZGhDgYDEfTzWBuem5OKwdTs9Nrl88ntQOrp3gEEgBFQW8HEeJgOJlMhPNdgZBKmARW6MtEU6sUNnbM5EGqogWZV212AsyukKEJEeMmnpfDs9TUxMw0Z8fWvmx2XnRQAQEgQCkFRHcXYWBBMj/NCCSSCYk7pIgAJqNnQARmERnMBNs2zcwOZ+YXDAqQOHUdp65LFAICmgd7PUNYAiICcgJAToKJJ24lApqUSl2XyLWj/jCx95YAAgZEzlCFVKUwPSByE3IjiM4DCWqXsQxWA5um0QhAGdtyixUjyHqSQkSL/7qKAQEt0hISCwubqwMCMEIp82WaCgAoyWOjoy4iiPB4Y21GWsQowhsb66uXLqEQi4NZxgznLqzaRhRAEEnAAEQIwJwTTgQQJ1GGK9o/4xBA4rboxBOUwVXakqqEih5+VUIOj2IK0ORdKRCie48NlVw2aq/9aFL/FEpkBmWq1zQ451cAIpxzWm1UAJ39AwBaAclpA+T6Wi8SBn0zJW7btmkCAKXEly8vU6Hw4oaGwuYiBq0i5mJIINApSqJ4dgaIxMLAOXB5O6LRzlMcgWDJRIY1dO7ucRlFITezO0BBJH0jgn3btMUihBkQNolb6neM7eZGpaIF/hIFQElUYWRe3hAlrkiI7IBZohjWpY6S0BlzdZQDEC8gBACYmp6dmpldXV6ikOUlwmrhHtsFrR4jGthys8rflOWZ04sQiBAKA3oeIACIRMCGr0wIAISo7WqQQSjSJ+gLCqAkNQIRAFjBxdMrZZJoOsIs69qs+3oRN7kajYzA5DKaCsrYnWtELDFTVuiGg0BYpld6pNZlBGIAOJlMuq5rBgAAgcL2XXuBZW3lkgAAMkggRMmzBJbtg9kykTo8AolxpzwPxHbTohiVBAIAJ+cegCkBADCalSSXngGaSMcCIjrBgACgeZV0RCQCREgqWfvcxWsxpIAKekhRqiYCCYBB55WE/X3NY6TwJKLcskgF6taamCxEUKMBMoo2yyIJgImo0rkOj1w3BAxd1+bbhRDmFrcMhtPinMdx2A3ECx6BcH1945mfvjSZdEgEQCAEQmABT3uMICSsEJF/RREAdoi1rmj3CQzjSIRSgtQhM7CgMKTEiYUFhJEZUzIIAlTC4mbmiFHF7Nr0lJY7awCoKHAWrBus19rUz7Ummqe6yie137iIOAcBUZ5edbB2COb67tC1bQiEIUgX0CbInMvrAJjVjpPI00/9bPfencPRMLGnnWb+khEYATyAlTGisACBBIVZxFA+lBzDsMRMi0E+QhAAZJbcdA+hIevbiwl+W2c96I5b/RQCAaWKllurB5DdDL0Wpjfxv+gFFSt1iBboSh/LFL92vevaXHAmCoFi0wwAkHPoqZIUZdExxheefU0S3XLb9alLwEatvIeZvCl9IAEDSXMOJMSonzqZsE8r7wFEEr2G3bcqcSMEYY/Fm3Bdo5MgWvmmdmFTRE8i5ZtWUiupRhmJ2ROVRgwZc5+waNtCkpWUdDQA+SKDEc0g1ldXV1dXVAchRqQwOzs/MzMDhvUonjogAhHGJh579/TpE2fvf+gOYZ9KERDxsrPWeDNjV+SsTGoTGaneL8bM7ug52oEgsAIaWZplBRmQfLXRD7Rwg4hCVnthL4QBuKl6D7Caj3y/kGmmhECISBiQAgCJzYtl/g31d2JDIQTP+CR/JPVNdYSJ27Zt24kZUwiC2HadSGlaQxELhBAvXlj5+UtvPvjRD83MjLjj6s5enfX4VI+rJ2UfYIVK7jZUiaUKqaYn1jIPCACLsAeNYlZecsjZuwcENXtCE7H0I1slcP0/9bwY3Ci4OIeOrXhRwXQkXN8Yv/Hq4S4lmxp0MWJ1i/qLIYS27VJKAEBEcTAQrq3VokpsBhcvrnz/2z+57roD23YsMHNxucqmVdY+gEwW1FnYJvgqCas3syNlZhpSjc8iX6lde3hBpeLoCI+5XmElzJztqjl4nEfWbAGBgQuOlfGg90EXmrAAZwaiTIkQtZpfIE6EArLI04+/CEAYPCiA2zxh1gIC6HopFm4nkxgb/RURQ4jD4YDcDhAJMVCglbW1b//do9fceNXNt90gSfP/95md1ju6uRjrUxbtI0gWr0t50SW+Cc0r5SKWdRGCoHhHIgyWFbppOkh7GgAuy97yIxFBQiLy6lUvR1ALcsMVECHIxZDiZGWhDoAaLxL99PHn5xfmb7ztGsuj/K7aIJn5gYc+YOY0aZsQVQF6j9H0zGAwFAQkQsKmiZOWv/N3Pzp449V3339blzoEABREzjajXu1TGioNxsIP0WtAOTdWUs52GYrXUkBQa3PsTJ0FfSLKLAhIh1PxltIPjUnqGZmMeUGx4N3K5ZWlpSVJ7BJVeuA25UtmbImBWi+6b9moNPsnm78PdPjQ0fPvXbzz3pslJTarE/cjcVh3u1BdIg4GA6iyhRAIA7LYHFGM8cK5pb/8yt8tLi58+ME73VDr4rAbcRmgDxvyHSW/zt5d46G/yZrEZTbkrfbupGFAzCVy4AWjC0XRgL1v9/1rMByMBsPc3dwy5rsaJcrzYz39gZbG/D4Q8PLq5dd+fuiBj3yIGmTO+SiqoN3AABDZijuG2M2g6aVrAIiYUuKUiPD8mQv/6T/+10FoHvnMQ6hsR7jqs97fXMuDfFGH/7OJK4B3DcGngR3CM4/N5FptRZxymemVu4KFX10qZMqQKmXqK1AAgIiGw9FwNNS+CREQVYSv1wkBFSZbDaEaAItoWGPgxx97ftf+vbv3b9dk3jQIBWoJDXPEVg9CCIEwpK5Lbao6i1NTM9Oz00TYTtq//9oPzp9f+vxvfCwESCwZp51f+H2KhUklbl1NWKTfR3nMIxLXBxJafUHppYUX8eCC4DNyCkTO+6BGBszDdtzCLAVQ8PR8CYJTHut7fU0eDwAC2zSYh2x3ehZBwtdeOrR0Ye3Wu25s265ayFOiDnoWTYHabrK+ttIMQmwiBRqPx4I9SEGk0czUYGrw/JOvvPDkq7/7+1/Yvmu2bTuEUnrXIKSwZghmkSzLAcBRoRZ5NVgAZ8MaGhTMHZL9J2NKJhOg09aSC256d7U3cVbjE9P1xKwWLlBALTFLPXPZuoCdI63lAAg2vZjZtghwCLSysv7qy0cffPjeqemBu2nuNkK2MQFGGLfjr37lr77yJ//lvffeRSrUNnusiLRdF2I8c+rCd/728S98+ZN33ndDO0kgAZBsirjmF7lei0jodudzJkXgNeK7R+YSpiZrOsGJbtCFWYEZbJakzz66A9h0N9oKlGJ9BSrtHa3bSc5TXPoGMDl8EKrVF3MzPCp2KgSEwCk98eMXdu7euXvvdm6ZAAEhVUHEs14QkMFw8OQTT//N179z9vzSL1577fTJowAppdSO25RSSkmtYtA0IvC3f/39HXu2fvyz93cds1AeSXHOkjjW8bX0t4pYBWqydVmNFwzIuZcTmZ6yTVi+lWvsgqaAjLaZXZRIkpVpU+RVTpS9C1EItHSRvad3Rd0nxBwthYAoxCaePP3eC8+9ft31ByIRViNHr8lqyBIRIlpZXfmnHz29ujF5/vlXDr915JWXXlhfW22asLGxtrq6OplMum7C3CHSi8++furEe//i978QG+KE5EldCEREYqvNDI/EI7p3TmpVFLlmg9RlTQIeWhGUAvpiIDNzEbQxYeb6pi4EBGeafWcpIuuvylVt9Otw2R48SDjiFSgT85vSOBFBsCRcp21CjEsXlqFMZXjNqLiOYdiRtw6/9uprO/csfvDegw98/MZDhw49+q0fCMikHa+uXr5w4dzFixcn3fjwW2/9zV9864v//JEdu7amzkoRMYamCZeXVlObbJES5o4VPiRe+C2GnK1T1BqqIQOSrcnUz3sRo5BJFTbULgUCELUbdWENfRGAkkrrkX/oy0Nc8HVuXVs6lPK/rvIQ9tlx664ICAsDw/ZtW/bs23bo0PG77vsAk660swHXZT0EjDHu2Lnw67/18eW1ycb6ysvPH21iWFo5feH8mdnZreONMSfumia17Z//n3+9beviAw/duba6mgAIcTBoVlbWn3nixZWllYd/5cEQB2bKBWd9sqZKQgVBp21yQRmN1EnG0mLa4DgBfZMHj2RZlnZTIeXWOUNWnZHvEIFSpBMXaRWTsknkYFXcw1b9khjV1aIHQJ4PYFLqITw1PXX7nTcc+sXbZ85cpFBXm3tEQkRY+NCbR77xjR//yR//13/41pPr63zVtXvbJId+8fbG2urlpUsbayuTjbXvfuPRN185/Gtf/jQAIMVANBgOjx4++fWv/n0S/uTnHhqOGp0DsKnA2nTqTWQWZr0npGDbY4zZPEzuHmALFOf3NZBlOguCgNHrQCg+VZpJABY3LGYIAOhTBU4cLEFlXz2JYnTTncUYkueZgLYXB9AXVB88uHs4hENvHNuz93Yk9hv2khDt55Ejx9944+3F7Yvbd2+98QO7YtN97c9fm99y8OA1+zc21ppBc+yd049+57Ev/fZn9hzYNh5PBk2zvDH5wT/+8MypMx/95AMHr9/PKaWOCRFBBrFJwh0n8eVPPkYUm+txVoKVdZe4XPI2yV/P67o8zcz4hvlN/2708gkTIBCyAAjrLCWrzBBIUBAYyrr0fEsXjQCIro4UW9+h6xizVwELK+mGagrNzIRly5aF2+689ujhYw995PZAAECJ2caZJ6gEUpf27d/2r//Nb95z/z2pW+H28tLq2kcfuSugiPD6eG08pm98/R+6lO69/+YutTEMXv7Z4X/64ZM7ds396m8+srgwJ0m3nIAAnz9/Yens8sz0zI69O0bTAwGRBLpyiZmNkULuhQUKRGRhRSI11sza+7AAhv/OXrIZZSUh6gYNo0ciYvtoSEsuIADIjpI5WpDnDznu6JyhRaZA5gSgtdLceSFbq2HrVxzkGVCE+aabD77wzPfeeuPY+vjSwWuump2bzSXlDHPTU8Pbb7vl7On1r/zJXx88uOcLv/HA4pYdr7z6ysnL73z04XsGw3jsyIkXnnv5Y4/8cpzCjbWNb3zte08/+epv/c4nPvzQbZBEuFSLhWV+fg4SvHf67OkzZxa3zlOkmemZ6dnpqanhYNSwXe/cSIkwOuepUzZEnzzMwcPAXGy1p63jLcCFyj4k5pAOYEUIEVGm6MsQQVjK/BD60klbLgCEQCA2A27LRsSBicjm1pDF0jkB8WxRdRCEpRPesnV+erp56okX7/rQ9SdPvPeB2+akBV+SorVf7Lh79pmf/+f/6+vL66sHrtm9Z9/+Q7949aUXXxsOtnRdOz01nBrhzTfve+Ch2947c+7P//RvV1fSv/vDL95020FOSfIyN0JiJMJIYcfO4a49O5aXV8YbYyIIIUw2Nk4dO9l1aXZ+bm5uJjSRAlGgGCIgUFmyVvGNXnEFnSKVYFYnX5jXISMgYnQQ0zcEVGg+nQ2k0C6JEwhQoOxoiLaMUiSTJlvvqvfwteDWeiRdqu+Wn9fbAwhCg83ilvkP/9LtP/jH51dXV646sOO2O25MolMsWhFlQpidn3v4Vx7+x0ef2Vgf//f/4XeefeLxXbu33P+hW0+e2lhfX58ahq2LM//29x4ZJ/6P//N/2rV/z//wP/7Oju2L40kHVVKRK3zqp6lNM7Mzs3Mz2YmnZqZWVlZDiIOpIRGJCDNP0kTL3SGEvNnYpCwl2mVBm9OKSFV2JSRbAmuREWNRXfYpEV9pYPEnUIBqbhSJuknbdUlAAoWmaSwfQSB1EQN5Be6yfYcsMKgNWaDXvhIAAN334O0nT53+3/+3P9u6bcfuXTse/OgHQwypLc6+vra0e8/8b3z5V/7qz79z4vjZy8sr06Phli2z776zIl2SBtN44/jbp/7h+y/c/cB9v/7PPjNswvpGS4TAXnwRQGTEoCFWOAkAioYoAURgGI6Go6kR6CSx1EsDQUw6xYwcURzZS6yu6SaozlJK3WQ8GA5CbAAgpRQdj4oicnx0JIeqLbtPMxg0jU7luDjzddpD3bSkhU5CAOCykUYjMSmvVIoqIsASIHzhiw/PzU392X/+27/66t/PDNqbP3jj9MKOcdsxJxSIDS1dPP3s0y8++9wrX/vLxV/7tfunmnD83aOSZNDEQRNOnjj7d9979u4HPvTpzzzUbqwRTA0GA5/2YI+LysIUL8njEDM7A2QWyhNIYHQCDSOQrIKJZRNHTjJzhUZ0nCmxgEwmk4vnlzhxiOGNn/1iNBoubl1Y2Dq//+o9xQPEgSXHmitYoN1Y4ygI5KkXjSdouswkNhMgYLS1Pcw5JLAI+4BFRFTdgzj47Gcfvuue2x77wVNH3jq2snT2wMG9V33gJhqMODFi2LZ93/z8rmEzt2f/NTfd/cCxtw4fP/7CzMxwfsvs2vLSN7/9+GB+8dOf/YgIS+JhbADJoxqVDEOAAoItvieWBBBSSpmXpUmXmIejoc0qZSkQVnN0QECCBjJVlVRyWh0DCiCNhtt3bAUECnR277YLpy++885xPsKXL12OTtMxJ4TYX3jT94mcARe/ccrl2wv6iTJAza4hxwDImyAt47ZYklJiTrt2br/7/lu/+pVv3Lixv8G0fvHsvuuun9m2uwlT01M7//0f/sGTTxyeXdh648Gbzp68ePjI6U8/cu/i7Ojk4SO7ts7f//GHKBACNcOBmpXRX2eSYOuhxdNg0KWJREHpjAiEgMxIIEiobkq+hEd8+4RNxeqWBqOa4tABHiNAEAPAoIlqtnfde9vG2mRtZXUymbSTNtaCtJWrJXBCqVXXqVgfslw7hbbnN603FfvK9pSTAQMC9PoHkZLfaw9effe9tz/26AvvHp2+/abd45WN0czR2fmdtzz4kcjjyeqFP/2T//u1n//s+NvHmhhuvfW6N18+fO7YmQ/ff+uBAzu5badG002Ivv685LY5Phmwq4byUMTWnAoGgKC/2ey29hyBbYLP0ikMJU2xKoWOw8Mb6q4IEbRF0jw93czObLGK99njrxciJJVwiwgt+6qolt/S/2h8zmaeNadv2hx3TiYAAGwYUE0R28W+vJQQu677/vee+spX/l9e3/jd3/yl7QuD2bm52YWFv/77p//673+ysDg3IFiYm963b8cw0Mljp//Vv/rcgYO7t+7cwwKj4XA4HDVNo2U4X6Hag4ocWXMIBU+UchEnjzgrzCOs7cdAkLK52Ug92s5Rc3dNfVzDpRxAAlIFYYFMmyD7VJ071EZccKhsqrGjPnoekDuGZYYsf18sIbQBZYs0UgRNbD7zuY988N5bT7x98uLxY0eOHd2/mzvgndumPvOpB1fXNy5dPM/Mc7NzKbVL62vHz1y45a5bpmZnAyEKaWU4cQpECBEy2vZ7Zxmnm50CQfEPBIHeRlfDapFgX6csQy24aVJUMlWvZBnauaoRiEViNkCz24IYjic9dlVzIR+PklMubHez9BF6DRbN5SnZnv9V1won2bN9y77dOzbGN106f+Hc8ROr5y/cdM2Bj37mbpyeDdA2w+EPv/fEysqlU+fP7tq/Z3H7NgQiIKUiLExoRwZYZQHK7epcKVuXZ5zWAZdaHx6gFHiMImXi7lco3GSJWNBxSy8wePbY65sw3Vt3h3GDNTgXzHLXDzy1z1/uBecCVlkbIqXl9/vRoKzS8UlPpIBIQViWLy2vrYxvvffDx4+fev3nbzz0sfu++bePvnfuvdnp+OlP3MdpQzoJGC20EBFRiIHQcMJ4l9uJlwpKV3ppbbavvtR9qUgVGGXTF8EFWAFdvkDAlkWjRN3hnnMlKWHXHSWfgmAatJlIyctPqpWNbJzAvcg1VYWVmqwVEo2+o8+9xdafkO3tERCUxIiwsGVxx66ZgLhr147pD8+x0K7dO9a69e9+87urF5e/9MWPUEDuJKWOdPOD36DcV4u3GeR7BfYqkon3MYNPGQUUxZiVFXaRhVKjS417lffonLDe2wEKobid9aKYa6k+ZXJM5GtGbWD2uvJuMWzsqdbhVMXrVa+ia+85+lSGFtRRGLoOOMXBYGZu5shbb09NDdbWVs+cPNeurF44cSI2IaF0wl1KunSvxL487jwi92B9n3ylHmQ1uNNUFIM1DYLcL8cIE70jwOZgk9+sFlqUCUwv4LuZSvlWFUtKoz3szr5YQXx1+8poNJuv/DGvTM3ersSNdDm1rs+voJtATr57/O233okIUw0NB2FjffLiMy+N19cP7t/Kq+cmK8tJGBEp+MmAOmsoaOuSVXKVbeafIi0pMNqDGxeXvy7TvFUotTG6oNx2Mr4VQ7U9/EVGtb7E9qZST5oZ0rjcw7CKqmFg3ZL/WvxHV/xjPuIDHNyM8qKv2d7svDReX3395Z997S++ceb0OUQZDMPRI0feeu0XO3dsf/3Q8cS8fuEMcRdjM2gaLd3oGUgqFbtTdlAByds7N5OHWh3iUMibPn3fpDVzJZWGrtQqFxdEB9KA51vSiuyssFztPb1CQ1jbfu91FdWy/nP8r+7ucaDqd74/AGiFg0HLFMAAXRpfeO/oxsaFnzz+1He/+Y+S5MJ758+fOcuTyfz86I3D7yytpW7jcru2FJqg6tOtDybx7HZYcKAsDrxyoJo6QEabwmpc+pu1Jj4xUPtEnmesKZb+lLNhEEMF+161gv4WherLOfBW/elRofpd4x6GYQ6qNka/BvP9s3UCgJ97JiCpXT137N0jb379b/4JRO7+0HU/evR7f/bHX106d+a3/8VnH374ruFU8+jjr168vL6xfIEgadlY3VJfQY6xUg2z7uom+QNUFu0IizlPy/WGGiB6pYQ8ovK6b9ARhQwV85wO2LwJ+sLHumzQ10W1kKtmq7mdzJqkovwZcxTlMod2JmGHqyAw2340QAToVs4dO/vu4Sd+cmj5Mv9Pf/T7+w9sG43oN7/88I23Xr2yvPzCT392y61Xv/CzI68evXjjQQnTJ7bvvgogcGIvI/bFjcatEHtLU6zCoDublL1nziLknKeEC7Rza6pcupK9Akn9jp0B61KIte+DlTHrZL0XydFnu7Rm4jMclYKrHQWaM/R01s8VrDCg0Oqg38M0n2IjlPdOHDn51usvvvTuU8+883t/8Nt33nfTeG2yuGVhZeulU2+fOnPqFCDe90sfWprwz14/uT6B9MbSb/2zPdPDABR8o3amVpbsIVYqqZgyQKWGSo61HPK8RpZSnYpmOrspOeinAgAAcXN0Bch1ZftNnLdifg0CNvkOV8hXqu86py2bHMq9EeyMElcU+n5+H5MW3xFIzrx7+M0Xnnvn+MUnnnv3kc9/4vNf+vhk3IoIIS5uWfz58y91zPc8eP/8tsWV1farr3/ru4/9XISuOnj1pz52u8GdlAK7gFcrsWcTm1hjLYSe4CptYSb74q7gEJcxYJNKcoNqmr0SedWVcl1GFTXVzB/UsVwfUjVd+XiOq4ZOfqElXei8WIslmUeDMRaE0ISzp44ff+vNk+9deualE9fdeP2X/+XnBVhaW2q9sLj4wMce+uinPr5n954RDW6+7uBNN197+szZrm2ffOqlSQfDJhp0k23G0gWEfWpfiIq9Y38rjyg60M+q402qAJBf9Vw/i8Ilk4mvLc6tyglVecTn+AkQ9EDO+pY5B+kF/IoO1b6Rddb78e35Ts6zRgGABZomvvnaoa/86TdOnFt79uXjTOH3/uA35hamupZtDIQIMAgxIklKBLAwN3PPXR84sG/39i0L3aT7zrefwBDQz4ooVKQmIz4NVduRJ4l9ULdYLEUfV2Rbm0svbvt6blTNufU6r+Tlf6W+XUZ4AUHOmlEfdKH2hF53pZcLb1ZJ5mRSf9cSHxGRQUNHDx/7oz/60yefP/TcK6eWVtp/+wdf3rdvZztOOvu2KYcA30P9wVtvuPeeGynI4o657//gqffOXI5NVKk5m88dMEsXpxi4idOYLL3ia4jZH0IdP7CMqxqp7wPLdu+iBdFpenBBXCFBgzy07TReAC+YUou5Bnop1u1kqcq/TaeW3vgqzNyKAAVcXl79P/74r06cPrd33+6nn3npM597+N4P3dGOu7K2vwqbfhoNEtDM1NQXf/Xje/duWVtdX9i68Og//hQ1SQTwdfRFtpkd935qEYOXgc1e1fEAKb9ZxNrP/3MjVdjTIVeWSFfaZpF+FTOkqhUpO8s8YXO3rzT2HJey+UiVmtWy1xuQUAzf//5PVzYmn/r0L7300kv3fOjW3/ytz7VdS0hBT9NEAuVYtj9DT2hAEIDEB/bt/eUH7zn65rG7777z3IXzp0+djzGgQ2iBAiw+ZJSe3KJrPdXcBksVofS5joIVs+r5hw+zZIUAAkI5LcLNsdQDlDglKbVKUHuupL75dfl6iWNWYIB+ALdeViQkhPjOOycef+yZe++7453Db994wzX/7X/3ezGGPNyaJQCgLW5hSSmJCCFFjA89cPctN199+tjZa64/+PTTr+p8ICCYGqpg49LxnMZ5zibLynmkCbEovkyp51Eg5jXrm1eP146COmuQB4KlFlg0BkYSMPdP7IySHCWK6N/HEECyh0qlmB5NzixFPyH6xRtH3z564qmfPHfdtVf9L//rf7hqz47JuO0JLbtOtta8RjMGRFycn/vVLz186tSJha0Lzz//+muvvDMYRVunTU668thtLXgFgx7p7Nc8UgGpgzm4gYpJtgezWeaViLIRu54KDSnv9cIyoAAkTobXJWiBoSdW4nDjKgSpF7W8W8UPij70n9iEpfMXn/rxc7PTM6Ph8F//m9+65sCebtwGQAKkvJquGobfPVsSCuEkpWuvO3DNdXvPHDt7zwO3ffPrPz53dhmjYXXf/HP273LOjl4mDcp9zUy8CI95AahdWa+Ryh205VwKvLX+dH28HWNIxuvq70kdDIqjkf/a/6l1WWL4FQGm9LvPOhCx69JzP33tuuuvv+W2Gw4c2LNz5+Jk3DpEVqaUzdXoYrEJokAUAHA4HN51zy0/f/HNm2+9MQ7l+99+NjYDDFeSsZ4eXcjYM5AajwRAsD72otcr7L8DIHaK8vtzVgJd5qgFD0+C3IxLcmKnAGTG4NkSFJvHKywlhyeL+znP9bdNwcoH9ZDnxx597vXX3r39nhuXzl7+1KceQmBJ0pPUJnXmDKPoA3UqQViuv+FAMwqHXn378//8Y08+/uJTP3xt5Fu63fPNSjBv17LFPXkbkkUqd7OKMGzSiupKNJz0lGmRlgri5A99Q1AWio0hOyNmdNwUtyqns0BuJ0dUsL75J8sIcuHNiAkCNLF5/ZWj3/vWk5/4/APnz1287rqDt952TeoYidDPl6rbNT4IVY0HkRFSYpGEBDHGLVvmP/LJux7/4bOL84v3PXzTX/yXvzt3ZjnE0kIetb8u485CgtJ8NcVpj6dAyOTKQwVh7wyQTO4qZRVcKQtacnx36fTBJL+sEgYsuoLikKgPFehpIDuUaQ11K6pBFgtQpHNnL37tL/7hoU/cu2//9ud/8to9D9w2GjXIyno9LvVALxsM6vS7hUiruhAnkQS33XIdDPHpn7z+uV9/6OZ79n7zbx5rW4wDXSxUnRPTj5Qu2IKN9UfeefSzHmz6DiEg2glbel2PlRh8gXExUQVUkEpetq3+7bEdEQR/7lVRWFXXFMhx2cOXObUwszMwl57zYSJqJ+3/85ffm5tf+OSv3v/iT1+dbHTX37y/naSCv5sCuivDw4MbAGKIERAnk0nqWJIszs9/7BN3f/fbP7l0Zvx7f/glCd2PvvschQYjgh7PqLaf92Lkf7MV+puZQVRBC2opVDxKsmL8Dcfh90nESriQ6nU1Ug0QNbMST6Zqgeh97DRcIwvZxNAW6ngZ11kEIYZAj/3op2+8euQ3/ptHRLpnHnv5jvtv3bJ1TixwWM7GdTHFHbRe7SOILEwhUIxIgZoIFJjx/ns/uG3HzPf/4dmZqdkvfvnjKxuXn/jhiwAkbh92ZF81j+uEphhfLfcsKJdmuS6DVRZd1WM3pCoBtJOmi9RzklgpwBqWKhQ6EpV5FqzvWvnV+wQD8bBv63YuLq28+OIvfv13H7n2hl1HDp28eHn8wfuv79qWPOhLeeZaRcC1LWcjun8RBNrJZLIxHsQ4nJoZDKcAcW525nf/5WffO3H6+OHz83PTH/nkPceOnXjxyddDCIqWqCkuYX/YPiwfei0Xc/dsYZmE9C1S4dFP8bHDMUv10w/lu0J3VRDvD73IXqOB8dKKhPQ16sWislIVICfVACxCkU6dfG//1fvu++idXSsv/PSN7Xu2X3X1Hlt6Kb1OlX5lJHOXsvJ1oNwz7lo9ND8luemm6+7/5dt/8uPnU4uLW+Yf+cIvHT9x8unHfk4UQ2P7fgxIEOsbeYh2abBIbQVYBPD+PzVeV00ikJWUWAqntntni87nyjoPNFwnm6mtXKnok2otOUFSlpQvtG6IIMB40h49cvzue28bxHDuzKWXXzxyx503N2QdM8OsZAH9X9DX/OldRISImuGg6yaT8VrbjtXhmPneBz6YuHv1pSMxxLn5uU997qFJu/7Tx18QhjhsNCK7LeY7+q00tLN/Zn2r5G7RYXMBO/ezAk9CCrpfRwQp1EUMzGpAS68rgK1VChlkFAUl41LWZE7prMNmNZ7022eBli6trK2M9x/YJcwXzl8KcXD7HTe0k451s1qgys0rzgbF8LA8ckq7JCm1XTcpG0AAAXBqavTgx+98+edvnHtvmRAGo8EDH7mrGdH3vvX48qX1ZtRoPBaB+rFXbr92yI03VkFxdWt3nU0LGQrNLQoVdhbkQAYAvq1Ftx/keFSIWtYNaWG2nqUpK6+rflCupEOu17tIEAAIwvkzF/bs2TYYECeemRvt379zamYIAvaIAZFyEk5lH1kE1inKd0VmSV0iCjHqKXKIiETEDHv37rzx5n3PPvWCzYYS3nHPbVdfv+eJHz996tjZ2ESfoTJR5TVjDjR+3kNf6L0fBECxvy7Anj56LiLVhEz+0LnqlRFpE5TZ6H2+qda3WEf8djkaqL9oHoCYUnfu9IVrr98XCBFgbn56+665djIB1I2xBr3CkjOQmqqZ4oEZbOkV+mksutN6MBgSBoUmRAShD955C3ftoTfeaZoIgpz4xpuvu/ehD77ywqu/ePWoGipdWYDIgyvOi1UHK8jxSrtPJKKPv3DQullflfQ+t+pJNSumDNzdAsCPBqdy9AtI3rgNhuXSa0pjZtu2a5fXFhcWdGPG1Gg0Ozs6f/6C+K4QHZJH/ytAt2JB2SV0pMw8mUzatgXJfREQGDTDex+88+hbb19eWosxICC3aXHL/Ic/cs/s/HTbpUq7/XAMTlocfAWk59Auj5xyIeRJTXTcriK3KqBXlcXNNl7BuGkvh+jNirJDzFDAtntaSLKOYKlSgDElBGTmwSgikACBYGwG23fMnT99vtFygSW2Za0L2QIrpCqrtr8im6AXhYRFkEWYS2VQtu/Ydu2NB555/EVuITRERJxwND29c/f2QOikCqvkzoVQU7IcBsqnfguDyCx5NOadwyCYLiQfmppRrm5Rc/ES2Z1mFOkXcyxvkruFHg1G3heplGTMJMlgMLjz3ltjQ8C2ZXTfVTsvnbvInXiw8pEjYL2foniaQwaCAE5NzQ4HU4ihGQyHo9FwNJUfx+wBFCSl6284OLsw88Q/PRcgYCBC1IMAqSTy1tsyZV1jbE0sSz7UvwyKODFrr9IXACASieOUf4wO7PoMSWOWsqlV8DiDvZt4YAQ/JkoVjX48o309eyIhLW5diMGSKGHZvn0LSlpdWtfrCc3YezEpa9TDu6oeKQBK27VdYhFkhK7rujbZtLj2UGyt4x1334TIr7zwi0FsQv10nBzi0eJuTpoqAOwBstQayAExX2DVt2wAhUIjAJVMGRFz2lXPnDh3KZRfnC9VEUUfcyO+fcMTgVIfyY+pqXopjNCxJEA/elaGo+HOPduOv30qxgGF3lKYEpYysvnuO1W9iKxcvjwZjwfNAImYeTwZp2R74Uk87xcBgcGg+dD9t584cfrIm8cphKJck2OmMeIUvTbTK9mn5Tr2KN/qU6mrbxUFQrOaTEFNYMVC62FvCgaw+SfrAyxO6HNAHdZ84rSULcDdxQ1ERCSxCOK+g3vfPfpuO27tXORye0uGpIroXI0eQIhoenamiVFS1wyamfn56bk5BCzLDypAn56efuCX78DAqUuF02B1TZXibQJeO1K+2nBg8pWqu1gkKFzLsXxKZd7K3i2i3CzrHFUAxHZvlRkGzkd6CfQazHr0spUOR/z06l7TiCnx1u1baEBnTpyFaisZo/3V7+pR1Gra5mCCIcTRaCrGZm1tLbUdMnDqlIAimbjA/RIRhWVubu6qA3vrzKtH9mpWIg6fbMvUC6jWqrUWUK9EP4H2StGrcKNyqSrOFImrPSdh3WgcQ/ADrsjWTdfS84fIaJ/RHorqz0TIvMghUvKqZ9DoahApLBTj9bde+9qrr2/fuy1EAotAZlqFFKha3d+JMITQtq1MJsqJ28mELTsQJ0rgvuerjMvRRQVXskxECu8Us3qXYRZrln4Plfx3V3lppYQAQNGnPvdQptYSCggn3hiP19ZW19bW1zc2xpNxO5m0bcuJRY/gMHTxYEnIiGqtyV8IQQJhQkbsAJJiUqVrI2iARASI+67eO5wdHjn6DkRiDy1gVMoHCKDLo7IiJ5Nx4g5EQqCmiV3XdV3nbNq+JnbIpsKZ316y2VoQVn8hm9hC5Rz1JLBPg1QTKj13ccfNgRDct3yTh+Y3ePHUWz0a1PuxbUhqLywizMxsWyFRCXZn/QDEQKCPhoJqsslorg5fn75WHgyzKdvOKRUAtF3Xdd1oNPKA4ZKqyIdk4VcpkwjEENoudW0KIRDp6id/Ji9aVkwVSykSLCyhWqGTl0D3f9CPV4DsNOAmX7Gq3EiFbGXPQbS+b6bY2XEMUBAhCEJJpkxeAiLCnTDrPiyQrktcVsoLJ2aRponMnBIPBo1qJYSYJAUK7n4UIiIRIHBiFGhiHDSNZISwMUMRtI4aLEHO6XCMQU1lenraKu+EKU28z/68VxcC1moAD6qu0Dzll4WYY0HtEO9Tt5H6pZQ9IABVnR0iuih7lzuI6XIVENH5I4Q8aC+dIwpjRJJgT9ZKKZFP1iAgU0qJAVAE2naiR2Axc0rd8tLl2dmZtuvOn12aGk0fuG7P8sWlZjDYtn2bJN83h+QTl5DxG7zegNXyKv0ohNB1HacEAsIsInE4EMTUtQCAyBkp7Gm8GQyrckld73h/QligHyul+OQYbP4Ua3DzJjTP9MfZ9kt25ouFRWka6p2rt4to/cvATQCxaZqePjnqRD9zaJpGRLquSyl1Xbu4ZWE0mtrY2Ajx8nAqCsj59y5s2bKAO/LpjLZTvqT1m4/SyZAlRKFpBuPxuG1bPVpm0naj0SB1aWO8EWPYLF7LV/JQMpr1xJ1tsmjC0iXOEJRTHzfwTDac8xVpecC1W/mRZXU6JlAdWpORUQps1VfaNZKTXtVVPj9Fl36hCFhlGIgHwtxNjUYhBgAYTY1GU6PBYBCIdu/dNRyN/Ohc6Ll4zXiKILGmjW07YeamiQAYhDAQEI3X10MIhZZAaUWnfEVgU024h+BaZQJf+eNcCpGSq5/6FMrj1Wbl1SCvrxkk+rwi9uwawcog7q9izigAyLaLzmpzuZiBsDmOVFITAOCUdI85C1PQSj0g4czsjAbmrdu3gefX2Wj6Uadw1iogI+qOPhCd1wJApNAMBpPJ2IuA0jOfPMzazOtfa77TG5LBkJ/mKAJ2hBZmOCoIjn3X2UxVUSCKpcjVY70RwJZN68FkqgTxg+htwgY88oj3HkSPWZbcAc+Ns/1qzUtqjoTku6Xy1GP1cFDMqICG+x5fCmVygKriBEAzGFCIIOOmaQCRUwLLtor+tNADttiwF0YznKCyfzuOk9E3PbI/bDFLpHAqMbpWT2AoU4f+k2ABgDBGiPr0EUzlaW1kwR/soFJARAz5uPu8elGHXgcXE2GhXJWO8to5tEVaAjJenwDkM+0ltyJ9qHATzgfBqtDyDfPXDRCF0+rycte1FAgDSfWsulrM7P2mgki9gm/yKVdDZk+EMzn2Kkg/COex5+jr/aYKZgCBXnr5yPHj586dW16+vLG+1q5vpLaFlDAJJSCGIEICQSCwALMIY2J9PBOxILtNusqLVebhavKgL7quO3/+wpuvHFpdWQ8xvnfy3JsvHQaBjuXwm+8uL61hiFljUNr02bRioH6oktQ+kf/yeLzethMA7Nq0vrrWta1HvrzoE6Qkdpo5iYgwQj66mut6j4lMp46KnNHIE28ywit5qd47N67aisfePXXiOABijA3qQ7eIKFATY4xxajQaDAaDQRhNjQajJhAGFF+mYNvPEVCE9Yuoz46y2Yw6vVDfQwpxYXHLzMx8bMLGxmR1bX1hxxwQvHf87OlT5/Yd2CsGQBmFnH6V2MZSp0kWojJlMMoriIPRkChOJhMB0IM7wBmKuyVCXrrsBuMF6JITqoHpmZfWhXxkgSIkocWtGoigvDaW6rrUkKu9iBQQATAEZgYRZuxYhKXrunYySV3ixCEQhTA3P7d16+KgoTiIUU/IBQoUMECMgUIIFEJDTROJsAkhhNDECMRqHSIizCAQB00zHIw3xqntrv3A1YjIiRe2Ltxyx/RwamDdy0+ncd5WkKmfttcpgoYrItQD6Yho0k5EJIRIiAB2Cm95epY+ObHinpnVm3Ykx1p3n8LzK2qQZSqV71bzBwz2eBFwXprPkY2T8ThjFCISBiACgRAoTI+ykkEwMZ87fxGBQwiIEJz6hBgV15MIYogxKgQNhsO2nQjy7OwsAmxdnJ0aDYisBBAwAMp4zIGIQhhNT83MznYpIXPegJ8dSL0CEX0cPTurfUE7q0sXEnM3SVu3bg0xdqkbr62I6HPzaBNbEZ+rE18erVFmU4lGcjEPnPO5IlCQCBkAWJTalvAOkkTAzi71sACcAAgh+iGMYk86Btbzn51tWS+leqwBYScAwkKEAhCITFKEhHq8tM3kdakDlrPh4tra+rZti1sXF0hdhYIu+OEura2vjSfd/Pzc7Nx009DU1ACFhyGi7QRUiyFAISJBBBWigZyjgQD4Y6xEn9UBuDGeMMva2hoiCnBq2xCDp7sFaBDrNAiKiZvQs3LLBxUBtmsEJNkeLDVaFYDkqWVE4wFd6lLiwWBAFEAgAiu3Up4ngJyPwxewVYxukh5v0Z6CwToLpgzcz033rV7E9tRRIKTRaLS6urG2NkakGIJ4+XNjY0NELl9euXT+8mg42LVn2979u5sYBk0MRBQ0HkUKgSIBAEVqIgWQQEgUHAqQEHXfKBFpnY9ZkkCIYZI6YZaUYhN02bAOxbpnf6xWIJrilpQYnaBWkbPP0ixDdQ3ZQgnbBJKL7AAgKSVgxoQppbxUPyZfolVScvU0D2ga5etqHTNXyZEk9vNQ9EzipJ9azSerzU0Muw51io6ZU0ohhIWF+YWFeREGpFOnziKgoFCgJgaEEEOkQCEgBYwhNIOGEGOMgaiJkZBiCCEgAJt7IQBSbJqp6SkAWFtb0w5zJwEghIgEYEcpMwLk501YRpXh2DwCKy8wSy7K8aVsaFCBANB2qYlx0naTSTsebxCSsKyurG3fudgMIiA0TRxPNnSeOtoT202YKNA7AE5RJU9L6aMX9OBE93fR56sXA/EsKTNRO7Y756PqYFqn8MPhtTVN0+xRbyLr+shb0CuVZSmC2THyMQQACIFiULtDohBDAIThYHDg4P7EKbGaiADA2mTSjbtBE6nRddkWbIN7UyCKFPSYfSISsrlvtOUqtq1CMwWRHCe4S6wdO3P63KHX3xGWCbddm1Q9wLC4MD27ZerchbNTw6mmaVbXVtOk7douCoA+ylvPrCcKyqPBD7phZBAgDdrqYflQiytCoeen5g/Zo8zZ/WgK/Tc/fZaZ9ayMlFqjhskb9DPVmJkTI6HOsVQuqPijJ54TIlIICBgQJy3PL87FpplMxuvL6wtb5q6+bv+rL75+eXl9OGpiQyEGJCTCJgZCCkQhUozBVqsRImHQHVKKGAQB7SmCSARi58VoEGVmAVxaury8vKSPlCMKEEIMkRBi07RdJwALi/OE1AyalBIzR0IUfaowAugBX8xkE+UMnWBAENAnf4cQBckPqgFAyFs1s9QrnfTyTgRkfyyMZUtJ1AgFhIEhASff+OBpREHgHHiFAwXQs9REmTNKJ5w4pdSlJAIEwokvXrg4P78waAbj9XEzbLbt3Hr2zKULF1YvLS/FQBgQPDMHgEgUYyRCChTInvUWYmhCiMrzSDmGfowxIFhNBRAhxECEDN3uq/Zs27WdJa2tr184d/H8mYsXzl7qxl07nixsm6GIa6vro6lR0zRNjEAYiYiFEahUVk2rAiIsKXX2JHQQ7FKHFMm22yrlNtGjbnN0TWTQtMlhPyhDzJ3zbxZd8qINdI9Rhu71W8dA17FTwHI7JIwYKVBKTACM3DGvr621OBnNTV930zUnj58+9s5JCJC4oxC8WpVrCfZAEK+VAAISWVBBQaJIQTVGIWJAiIGUHcQYLYcNGEPQC0bD6X0Hpnft2Xnh3KWVpZXJZDKZdANs3j56suvaxcX50WiAIUQPwBZhLMwAghCFgGBn35lzoJYBDa9rlqz8Qqo0RUSy6SaPViD5iWh2VpYGAPECuAUI5+DeiN+FBdEeZ5tBTFhy3BIRIhQRjDQIYcvWLcPhYGZ+/o1X3lq+tBQGuv5HUpf01uBzqJin7L12bNtK80JKfUwhGJSKX0AKUiJEGJGIAgNTIBCggMNBHAzizOzcHFEI2DE0oxFvwMrq+vrGhAWi4wXWZQO0zM3gBbWsavTMOFkN6HZNTlnzkqaSvFtbluJXVZ3cvhFbwsyp7AoB8FopOiUR/wHDoZI0MbM9qh1467at81tnnn/q5bXV9aZBYUCKGuTyLfzBfSD61CT0aoQw+KNHFAIIEYCUdSshMdWhJyzWYdGyr9MriSFGCkBAgUaDJgQkwhBDjDGiFxi9wJdTRHRTUHvIE5nZWMEzNbHl9g79aKer2HOVFNqK3MXhyf7vxRY78h1dMnVcEeVBBblc1g5x4LoABNR9RMzCzDHEa2+4um27CxfOaxy6vLKiizkAcyPohSBkoy2qAOQu5cptJwKQXPVc0gdE4Zw3izCDPafaB27wrlaLMVIIAYmaGGPHHdqpgdXhucI+mWBiEl/DICAArHVpZoYyewhgc8gG2HYEXE7WAQCQvSgPzufURtj3i2fhZmgG47XQOTfqRxqpv+XSUYvEixeXmGV1Zf3ANVfdcNP1G2sbIdBLP3v5zOmzFJxNgFc0EVhYjUkZhuZXnmhWEU7/A4MmX/yYy1TKDYTFnv0t3CFAoIBBEImBRFI3Hq9c7qKedK9UQ7wnWgAGh0UfqA6VxRJsjb3+qYhtU/Gzk9g2tIGPzfvsRu/0VPIsJnrYrWiVOwi4X/iVloIWBWiKZCmI3mNp6fLSxeV20k1PT3WTSeI0HA3mZmdPdGcaX9OHSCKoXNxUraKv1Cz2XB0LGwCiLMw8T2OP0w0ASMzJD+tVITFzIJKUli9f2rZj+9TU9Pr6+nht/f8DcAebaq0YbI4AAAAASUVORK5CYII=\n",
                  "text/plain": [
                    "<PIL.Image.Image image mode=RGB size=128x113 at 0x7FDC83BE3CD0>"
                  ]
                },
                "metadata": {}
              }
            ],
            "_view_module": "@jupyter-widgets/output",
            "_model_module_version": "1.0.0",
            "_view_count": null,
            "_view_module_version": "1.0.0",
            "layout": "IPY_MODEL_bd71ced756aa4b1085f265f4ef285e6e",
            "_model_module": "@jupyter-widgets/output"
          }
        },
        "692d2990491e439a8bff3741a6df5485": {
          "model_module": "@jupyter-widgets/controls",
          "model_name": "LabelModel",
          "model_module_version": "1.5.0",
          "state": {
            "_view_name": "LabelView",
            "style": "IPY_MODEL_60468766198a46ab8c3d66afd3fbf19d",
            "_dom_classes": [],
            "description": "",
            "_model_name": "LabelModel",
            "placeholder": "​",
            "_view_module": "@jupyter-widgets/controls",
            "_model_module_version": "1.5.0",
            "value": "Predictions: Yellow Garden; Probability: 0.7800",
            "_view_count": null,
            "_view_module_version": "1.5.0",
            "description_tooltip": null,
            "_model_module": "@jupyter-widgets/controls",
            "layout": "IPY_MODEL_84df8f248d754cecbce7e0a4c1645207"
          }
        },
        "bee71c267d134c6bafd6c32417d50138": {
          "model_module": "@jupyter-widgets/controls",
          "model_name": "DescriptionStyleModel",
          "model_module_version": "1.5.0",
          "state": {
            "_view_name": "StyleView",
            "_model_name": "DescriptionStyleModel",
            "description_width": "",
            "_view_module": "@jupyter-widgets/base",
            "_model_module_version": "1.5.0",
            "_view_count": null,
            "_view_module_version": "1.2.0",
            "_model_module": "@jupyter-widgets/controls"
          }
        },
        "47e97097cf8e4c48aafad5d0ff069ebd": {
          "model_module": "@jupyter-widgets/base",
          "model_name": "LayoutModel",
          "model_module_version": "1.2.0",
          "state": {
            "_view_name": "LayoutView",
            "grid_template_rows": null,
            "right": null,
            "justify_content": null,
            "_view_module": "@jupyter-widgets/base",
            "overflow": null,
            "_model_module_version": "1.2.0",
            "_view_count": null,
            "flex_flow": null,
            "width": null,
            "min_width": null,
            "border": null,
            "align_items": null,
            "bottom": null,
            "_model_module": "@jupyter-widgets/base",
            "top": null,
            "grid_column": null,
            "overflow_y": null,
            "overflow_x": null,
            "grid_auto_flow": null,
            "grid_area": null,
            "grid_template_columns": null,
            "flex": null,
            "_model_name": "LayoutModel",
            "justify_items": null,
            "grid_row": null,
            "max_height": null,
            "align_content": null,
            "visibility": null,
            "align_self": null,
            "height": null,
            "min_height": null,
            "padding": null,
            "grid_auto_rows": null,
            "grid_gap": null,
            "max_width": null,
            "order": null,
            "_view_module_version": "1.2.0",
            "grid_template_areas": null,
            "object_position": null,
            "object_fit": null,
            "grid_auto_columns": null,
            "margin": null,
            "display": null,
            "left": null
          }
        },
        "6e2f7b2b95eb4230899656a57c2c11bf": {
          "model_module": "@jupyter-widgets/controls",
          "model_name": "ButtonStyleModel",
          "model_module_version": "1.5.0",
          "state": {
            "_view_name": "StyleView",
            "_model_name": "ButtonStyleModel",
            "_view_module": "@jupyter-widgets/base",
            "_model_module_version": "1.5.0",
            "_view_count": null,
            "button_color": null,
            "font_weight": "",
            "_view_module_version": "1.2.0",
            "_model_module": "@jupyter-widgets/controls"
          }
        },
        "6544ce6129d2441e87b2866f4d2066be": {
          "model_module": "@jupyter-widgets/base",
          "model_name": "LayoutModel",
          "model_module_version": "1.2.0",
          "state": {
            "_view_name": "LayoutView",
            "grid_template_rows": null,
            "right": null,
            "justify_content": null,
            "_view_module": "@jupyter-widgets/base",
            "overflow": null,
            "_model_module_version": "1.2.0",
            "_view_count": null,
            "flex_flow": null,
            "width": null,
            "min_width": null,
            "border": null,
            "align_items": null,
            "bottom": null,
            "_model_module": "@jupyter-widgets/base",
            "top": null,
            "grid_column": null,
            "overflow_y": null,
            "overflow_x": null,
            "grid_auto_flow": null,
            "grid_area": null,
            "grid_template_columns": null,
            "flex": null,
            "_model_name": "LayoutModel",
            "justify_items": null,
            "grid_row": null,
            "max_height": null,
            "align_content": null,
            "visibility": null,
            "align_self": null,
            "height": null,
            "min_height": null,
            "padding": null,
            "grid_auto_rows": null,
            "grid_gap": null,
            "max_width": null,
            "order": null,
            "_view_module_version": "1.2.0",
            "grid_template_areas": null,
            "object_position": null,
            "object_fit": null,
            "grid_auto_columns": null,
            "margin": null,
            "display": null,
            "left": null
          }
        },
        "dc7ff8ec99d54d93a705da9a867703dd": {
          "model_module": "@jupyter-widgets/controls",
          "model_name": "ButtonStyleModel",
          "model_module_version": "1.5.0",
          "state": {
            "_view_name": "StyleView",
            "_model_name": "ButtonStyleModel",
            "_view_module": "@jupyter-widgets/base",
            "_model_module_version": "1.5.0",
            "_view_count": null,
            "button_color": null,
            "font_weight": "",
            "_view_module_version": "1.2.0",
            "_model_module": "@jupyter-widgets/controls"
          }
        },
        "beb31ed6133443d39e10f1691dad5bf8": {
          "model_module": "@jupyter-widgets/base",
          "model_name": "LayoutModel",
          "model_module_version": "1.2.0",
          "state": {
            "_view_name": "LayoutView",
            "grid_template_rows": null,
            "right": null,
            "justify_content": null,
            "_view_module": "@jupyter-widgets/base",
            "overflow": null,
            "_model_module_version": "1.2.0",
            "_view_count": null,
            "flex_flow": null,
            "width": null,
            "min_width": null,
            "border": null,
            "align_items": null,
            "bottom": null,
            "_model_module": "@jupyter-widgets/base",
            "top": null,
            "grid_column": null,
            "overflow_y": null,
            "overflow_x": null,
            "grid_auto_flow": null,
            "grid_area": null,
            "grid_template_columns": null,
            "flex": null,
            "_model_name": "LayoutModel",
            "justify_items": null,
            "grid_row": null,
            "max_height": null,
            "align_content": null,
            "visibility": null,
            "align_self": null,
            "height": null,
            "min_height": null,
            "padding": null,
            "grid_auto_rows": null,
            "grid_gap": null,
            "max_width": null,
            "order": null,
            "_view_module_version": "1.2.0",
            "grid_template_areas": null,
            "object_position": null,
            "object_fit": null,
            "grid_auto_columns": null,
            "margin": null,
            "display": null,
            "left": null
          }
        },
        "60468766198a46ab8c3d66afd3fbf19d": {
          "model_module": "@jupyter-widgets/controls",
          "model_name": "DescriptionStyleModel",
          "model_module_version": "1.5.0",
          "state": {
            "_view_name": "StyleView",
            "_model_name": "DescriptionStyleModel",
            "description_width": "",
            "_view_module": "@jupyter-widgets/base",
            "_model_module_version": "1.5.0",
            "_view_count": null,
            "_view_module_version": "1.2.0",
            "_model_module": "@jupyter-widgets/controls"
          }
        },
        "84df8f248d754cecbce7e0a4c1645207": {
          "model_module": "@jupyter-widgets/base",
          "model_name": "LayoutModel",
          "model_module_version": "1.2.0",
          "state": {
            "_view_name": "LayoutView",
            "grid_template_rows": null,
            "right": null,
            "justify_content": null,
            "_view_module": "@jupyter-widgets/base",
            "overflow": null,
            "_model_module_version": "1.2.0",
            "_view_count": null,
            "flex_flow": null,
            "width": null,
            "min_width": null,
            "border": null,
            "align_items": null,
            "bottom": null,
            "_model_module": "@jupyter-widgets/base",
            "top": null,
            "grid_column": null,
            "overflow_y": null,
            "overflow_x": null,
            "grid_auto_flow": null,
            "grid_area": null,
            "grid_template_columns": null,
            "flex": null,
            "_model_name": "LayoutModel",
            "justify_items": null,
            "grid_row": null,
            "max_height": null,
            "align_content": null,
            "visibility": null,
            "align_self": null,
            "height": null,
            "min_height": null,
            "padding": null,
            "grid_auto_rows": null,
            "grid_gap": null,
            "max_width": null,
            "order": null,
            "_view_module_version": "1.2.0",
            "grid_template_areas": null,
            "object_position": null,
            "object_fit": null,
            "grid_auto_columns": null,
            "margin": null,
            "display": null,
            "left": null
          }
        },
        "bd71ced756aa4b1085f265f4ef285e6e": {
          "model_module": "@jupyter-widgets/base",
          "model_name": "LayoutModel",
          "model_module_version": "1.2.0",
          "state": {
            "_view_name": "LayoutView",
            "grid_template_rows": null,
            "right": null,
            "justify_content": null,
            "_view_module": "@jupyter-widgets/base",
            "overflow": null,
            "_model_module_version": "1.2.0",
            "_view_count": null,
            "flex_flow": null,
            "width": null,
            "min_width": null,
            "border": null,
            "align_items": null,
            "bottom": null,
            "_model_module": "@jupyter-widgets/base",
            "top": null,
            "grid_column": null,
            "overflow_y": null,
            "overflow_x": null,
            "grid_auto_flow": null,
            "grid_area": null,
            "grid_template_columns": null,
            "flex": null,
            "_model_name": "LayoutModel",
            "justify_items": null,
            "grid_row": null,
            "max_height": null,
            "align_content": null,
            "visibility": null,
            "align_self": null,
            "height": null,
            "min_height": null,
            "padding": null,
            "grid_auto_rows": null,
            "grid_gap": null,
            "max_width": null,
            "order": null,
            "_view_module_version": "1.2.0",
            "grid_template_areas": null,
            "object_position": null,
            "object_fit": null,
            "grid_auto_columns": null,
            "margin": null,
            "display": null,
            "left": null
          }
        }
      }
    }
  },
  "cells": [
    {
      "cell_type": "markdown",
      "metadata": {
        "id": "view-in-github",
        "colab_type": "text"
      },
      "source": [
        "<a href=\"https://colab.research.google.com/github/chris-kehl/Spider_Classifier/blob/main/spider_classifier_app.ipynb\" target=\"_parent\"><img src=\"https://colab.research.google.com/assets/colab-badge.svg\" alt=\"Open In Colab\"/></a>"
      ]
    },
    {
      "cell_type": "code",
      "metadata": {
        "colab": {
          "base_uri": "https://localhost:8080/"
        },
        "id": "KkiLvi86QoNe",
        "outputId": "a3d096f7-c2c4-4848-fc3a-d505a89f755c"
      },
      "source": [
        "!pip install voila\n",
        "!jupyter serverextension enable --sys-prefix voila\n"
      ],
      "execution_count": 4,
      "outputs": [
        {
          "output_type": "stream",
          "text": [
            "Requirement already satisfied: voila in /usr/local/lib/python3.7/dist-packages (0.2.10)\n",
            "Requirement already satisfied: nbconvert<7,>=6.0.0 in /usr/local/lib/python3.7/dist-packages (from voila) (6.1.0)\n",
            "Requirement already satisfied: jupyter-server<2.0.0,>=0.3.0 in /usr/local/lib/python3.7/dist-packages (from voila) (1.10.2)\n",
            "Requirement already satisfied: jupyter-client<7,>=6.1.3 in /usr/local/lib/python3.7/dist-packages (from voila) (6.1.12)\n",
            "Requirement already satisfied: nbclient<0.6,>=0.4.0 in /usr/local/lib/python3.7/dist-packages (from voila) (0.5.4)\n",
            "Requirement already satisfied: traitlets in /usr/local/lib/python3.7/dist-packages (from jupyter-client<7,>=6.1.3->voila) (5.0.5)\n",
            "Requirement already satisfied: python-dateutil>=2.1 in /usr/local/lib/python3.7/dist-packages (from jupyter-client<7,>=6.1.3->voila) (2.8.2)\n",
            "Requirement already satisfied: tornado>=4.1 in /usr/local/lib/python3.7/dist-packages (from jupyter-client<7,>=6.1.3->voila) (6.1)\n",
            "Requirement already satisfied: pyzmq>=13 in /usr/local/lib/python3.7/dist-packages (from jupyter-client<7,>=6.1.3->voila) (22.2.1)\n",
            "Requirement already satisfied: jupyter-core>=4.6.0 in /usr/local/lib/python3.7/dist-packages (from jupyter-client<7,>=6.1.3->voila) (4.7.1)\n",
            "Requirement already satisfied: prometheus-client in /usr/local/lib/python3.7/dist-packages (from jupyter-server<2.0.0,>=0.3.0->voila) (0.11.0)\n",
            "Requirement already satisfied: requests-unixsocket in /usr/local/lib/python3.7/dist-packages (from jupyter-server<2.0.0,>=0.3.0->voila) (0.2.0)\n",
            "Requirement already satisfied: websocket-client in /usr/local/lib/python3.7/dist-packages (from jupyter-server<2.0.0,>=0.3.0->voila) (1.2.1)\n",
            "Requirement already satisfied: Send2Trash in /usr/local/lib/python3.7/dist-packages (from jupyter-server<2.0.0,>=0.3.0->voila) (1.8.0)\n",
            "Requirement already satisfied: ipython-genutils in /usr/local/lib/python3.7/dist-packages (from jupyter-server<2.0.0,>=0.3.0->voila) (0.2.0)\n",
            "Requirement already satisfied: jinja2 in /usr/local/lib/python3.7/dist-packages (from jupyter-server<2.0.0,>=0.3.0->voila) (2.11.3)\n",
            "Requirement already satisfied: terminado>=0.8.3 in /usr/local/lib/python3.7/dist-packages (from jupyter-server<2.0.0,>=0.3.0->voila) (0.11.0)\n",
            "Requirement already satisfied: nbformat in /usr/local/lib/python3.7/dist-packages (from jupyter-server<2.0.0,>=0.3.0->voila) (5.1.3)\n",
            "Requirement already satisfied: anyio<4,>=3.1.0 in /usr/local/lib/python3.7/dist-packages (from jupyter-server<2.0.0,>=0.3.0->voila) (3.3.0)\n",
            "Requirement already satisfied: argon2-cffi in /usr/local/lib/python3.7/dist-packages (from jupyter-server<2.0.0,>=0.3.0->voila) (20.1.0)\n",
            "Requirement already satisfied: typing-extensions in /usr/local/lib/python3.7/dist-packages (from anyio<4,>=3.1.0->jupyter-server<2.0.0,>=0.3.0->voila) (3.7.4.3)\n",
            "Requirement already satisfied: idna>=2.8 in /usr/local/lib/python3.7/dist-packages (from anyio<4,>=3.1.0->jupyter-server<2.0.0,>=0.3.0->voila) (2.10)\n",
            "Requirement already satisfied: sniffio>=1.1 in /usr/local/lib/python3.7/dist-packages (from anyio<4,>=3.1.0->jupyter-server<2.0.0,>=0.3.0->voila) (1.2.0)\n",
            "Requirement already satisfied: nest-asyncio in /usr/local/lib/python3.7/dist-packages (from nbclient<0.6,>=0.4.0->voila) (1.5.1)\n",
            "Requirement already satisfied: defusedxml in /usr/local/lib/python3.7/dist-packages (from nbconvert<7,>=6.0.0->voila) (0.7.1)\n",
            "Requirement already satisfied: testpath in /usr/local/lib/python3.7/dist-packages (from nbconvert<7,>=6.0.0->voila) (0.5.0)\n",
            "Requirement already satisfied: jupyterlab-pygments in /usr/local/lib/python3.7/dist-packages (from nbconvert<7,>=6.0.0->voila) (0.1.2)\n",
            "Requirement already satisfied: mistune<2,>=0.8.1 in /usr/local/lib/python3.7/dist-packages (from nbconvert<7,>=6.0.0->voila) (0.8.4)\n",
            "Requirement already satisfied: pandocfilters>=1.4.1 in /usr/local/lib/python3.7/dist-packages (from nbconvert<7,>=6.0.0->voila) (1.4.3)\n",
            "Requirement already satisfied: bleach in /usr/local/lib/python3.7/dist-packages (from nbconvert<7,>=6.0.0->voila) (4.0.0)\n",
            "Requirement already satisfied: pygments>=2.4.1 in /usr/local/lib/python3.7/dist-packages (from nbconvert<7,>=6.0.0->voila) (2.6.1)\n",
            "Requirement already satisfied: entrypoints>=0.2.2 in /usr/local/lib/python3.7/dist-packages (from nbconvert<7,>=6.0.0->voila) (0.3)\n",
            "Requirement already satisfied: MarkupSafe>=0.23 in /usr/local/lib/python3.7/dist-packages (from jinja2->jupyter-server<2.0.0,>=0.3.0->voila) (2.0.1)\n",
            "Requirement already satisfied: jsonschema!=2.5.0,>=2.4 in /usr/local/lib/python3.7/dist-packages (from nbformat->jupyter-server<2.0.0,>=0.3.0->voila) (2.6.0)\n",
            "Requirement already satisfied: six>=1.5 in /usr/local/lib/python3.7/dist-packages (from python-dateutil>=2.1->jupyter-client<7,>=6.1.3->voila) (1.15.0)\n",
            "Requirement already satisfied: ptyprocess in /usr/local/lib/python3.7/dist-packages (from terminado>=0.8.3->jupyter-server<2.0.0,>=0.3.0->voila) (0.7.0)\n",
            "Requirement already satisfied: cffi>=1.0.0 in /usr/local/lib/python3.7/dist-packages (from argon2-cffi->jupyter-server<2.0.0,>=0.3.0->voila) (1.14.6)\n",
            "Requirement already satisfied: pycparser in /usr/local/lib/python3.7/dist-packages (from cffi>=1.0.0->argon2-cffi->jupyter-server<2.0.0,>=0.3.0->voila) (2.20)\n",
            "Requirement already satisfied: packaging in /usr/local/lib/python3.7/dist-packages (from bleach->nbconvert<7,>=6.0.0->voila) (21.0)\n",
            "Requirement already satisfied: webencodings in /usr/local/lib/python3.7/dist-packages (from bleach->nbconvert<7,>=6.0.0->voila) (0.5.1)\n",
            "Requirement already satisfied: pyparsing>=2.0.2 in /usr/local/lib/python3.7/dist-packages (from packaging->bleach->nbconvert<7,>=6.0.0->voila) (2.4.7)\n",
            "Requirement already satisfied: requests>=1.1 in /usr/local/lib/python3.7/dist-packages (from requests-unixsocket->jupyter-server<2.0.0,>=0.3.0->voila) (2.23.0)\n",
            "Requirement already satisfied: urllib3>=1.8 in /usr/local/lib/python3.7/dist-packages (from requests-unixsocket->jupyter-server<2.0.0,>=0.3.0->voila) (1.24.3)\n",
            "Requirement already satisfied: chardet<4,>=3.0.2 in /usr/local/lib/python3.7/dist-packages (from requests>=1.1->requests-unixsocket->jupyter-server<2.0.0,>=0.3.0->voila) (3.0.4)\n",
            "Requirement already satisfied: certifi>=2017.4.17 in /usr/local/lib/python3.7/dist-packages (from requests>=1.1->requests-unixsocket->jupyter-server<2.0.0,>=0.3.0->voila) (2021.5.30)\n",
            "Enabling: voila\n",
            "- Writing config: /usr/etc/jupyter\n",
            "    - Validating...\n",
            "Error loading server extension voila\n",
            "     \u001b[31m X\u001b[0m is voila importable?\n"
          ],
          "name": "stdout"
        }
      ]
    },
    {
      "cell_type": "code",
      "metadata": {
        "colab": {
          "base_uri": "https://localhost:8080/"
        },
        "id": "KOvAgvUjtCqd",
        "outputId": "cc0f3355-3efe-420d-b52b-0bfd1b8137cd"
      },
      "source": [
        "!pip install -Uqq fastbook\n",
        "import fastbook\n",
        "import warnings\n",
        "import os \n",
        "fastbook.setup_book()\n",
        "from fastai.vision.all import *\n",
        "from fastbook import *\n",
        "from fastai.vision.widgets import *"
      ],
      "execution_count": 5,
      "outputs": [
        {
          "output_type": "stream",
          "text": [
            "\u001b[?25l\r\u001b[K     |▌                               | 10 kB 29.1 MB/s eta 0:00:01\r\u001b[K     |█                               | 20 kB 19.9 MB/s eta 0:00:01\r\u001b[K     |█▍                              | 30 kB 11.2 MB/s eta 0:00:01\r\u001b[K     |█▉                              | 40 kB 6.5 MB/s eta 0:00:01\r\u001b[K     |██▎                             | 51 kB 7.8 MB/s eta 0:00:01\r\u001b[K     |██▊                             | 61 kB 7.7 MB/s eta 0:00:01\r\u001b[K     |███▏                            | 71 kB 7.4 MB/s eta 0:00:01\r\u001b[K     |███▋                            | 81 kB 8.3 MB/s eta 0:00:01\r\u001b[K     |████                            | 92 kB 6.9 MB/s eta 0:00:01\r\u001b[K     |████▌                           | 102 kB 7.5 MB/s eta 0:00:01\r\u001b[K     |█████                           | 112 kB 7.5 MB/s eta 0:00:01\r\u001b[K     |█████▌                          | 122 kB 7.5 MB/s eta 0:00:01\r\u001b[K     |██████                          | 133 kB 7.5 MB/s eta 0:00:01\r\u001b[K     |██████▍                         | 143 kB 7.5 MB/s eta 0:00:01\r\u001b[K     |██████▉                         | 153 kB 7.5 MB/s eta 0:00:01\r\u001b[K     |███████▎                        | 163 kB 7.5 MB/s eta 0:00:01\r\u001b[K     |███████▊                        | 174 kB 7.5 MB/s eta 0:00:01\r\u001b[K     |████████▏                       | 184 kB 7.5 MB/s eta 0:00:01\r\u001b[K     |████████▋                       | 194 kB 7.5 MB/s eta 0:00:01\r\u001b[K     |█████████                       | 204 kB 7.5 MB/s eta 0:00:01\r\u001b[K     |█████████▋                      | 215 kB 7.5 MB/s eta 0:00:01\r\u001b[K     |██████████                      | 225 kB 7.5 MB/s eta 0:00:01\r\u001b[K     |██████████▌                     | 235 kB 7.5 MB/s eta 0:00:01\r\u001b[K     |███████████                     | 245 kB 7.5 MB/s eta 0:00:01\r\u001b[K     |███████████▍                    | 256 kB 7.5 MB/s eta 0:00:01\r\u001b[K     |███████████▉                    | 266 kB 7.5 MB/s eta 0:00:01\r\u001b[K     |████████████▎                   | 276 kB 7.5 MB/s eta 0:00:01\r\u001b[K     |████████████▊                   | 286 kB 7.5 MB/s eta 0:00:01\r\u001b[K     |█████████████▏                  | 296 kB 7.5 MB/s eta 0:00:01\r\u001b[K     |█████████████▋                  | 307 kB 7.5 MB/s eta 0:00:01\r\u001b[K     |██████████████                  | 317 kB 7.5 MB/s eta 0:00:01\r\u001b[K     |██████████████▋                 | 327 kB 7.5 MB/s eta 0:00:01\r\u001b[K     |███████████████                 | 337 kB 7.5 MB/s eta 0:00:01\r\u001b[K     |███████████████▌                | 348 kB 7.5 MB/s eta 0:00:01\r\u001b[K     |████████████████                | 358 kB 7.5 MB/s eta 0:00:01\r\u001b[K     |████████████████▍               | 368 kB 7.5 MB/s eta 0:00:01\r\u001b[K     |████████████████▉               | 378 kB 7.5 MB/s eta 0:00:01\r\u001b[K     |█████████████████▎              | 389 kB 7.5 MB/s eta 0:00:01\r\u001b[K     |█████████████████▊              | 399 kB 7.5 MB/s eta 0:00:01\r\u001b[K     |██████████████████▏             | 409 kB 7.5 MB/s eta 0:00:01\r\u001b[K     |██████████████████▋             | 419 kB 7.5 MB/s eta 0:00:01\r\u001b[K     |███████████████████▏            | 430 kB 7.5 MB/s eta 0:00:01\r\u001b[K     |███████████████████▋            | 440 kB 7.5 MB/s eta 0:00:01\r\u001b[K     |████████████████████            | 450 kB 7.5 MB/s eta 0:00:01\r\u001b[K     |████████████████████▌           | 460 kB 7.5 MB/s eta 0:00:01\r\u001b[K     |█████████████████████           | 471 kB 7.5 MB/s eta 0:00:01\r\u001b[K     |█████████████████████▍          | 481 kB 7.5 MB/s eta 0:00:01\r\u001b[K     |█████████████████████▉          | 491 kB 7.5 MB/s eta 0:00:01\r\u001b[K     |██████████████████████▎         | 501 kB 7.5 MB/s eta 0:00:01\r\u001b[K     |██████████████████████▊         | 512 kB 7.5 MB/s eta 0:00:01\r\u001b[K     |███████████████████████▏        | 522 kB 7.5 MB/s eta 0:00:01\r\u001b[K     |███████████████████████▋        | 532 kB 7.5 MB/s eta 0:00:01\r\u001b[K     |████████████████████████▏       | 542 kB 7.5 MB/s eta 0:00:01\r\u001b[K     |████████████████████████▋       | 552 kB 7.5 MB/s eta 0:00:01\r\u001b[K     |█████████████████████████       | 563 kB 7.5 MB/s eta 0:00:01\r\u001b[K     |█████████████████████████▌      | 573 kB 7.5 MB/s eta 0:00:01\r\u001b[K     |██████████████████████████      | 583 kB 7.5 MB/s eta 0:00:01\r\u001b[K     |██████████████████████████▍     | 593 kB 7.5 MB/s eta 0:00:01\r\u001b[K     |██████████████████████████▉     | 604 kB 7.5 MB/s eta 0:00:01\r\u001b[K     |███████████████████████████▎    | 614 kB 7.5 MB/s eta 0:00:01\r\u001b[K     |███████████████████████████▊    | 624 kB 7.5 MB/s eta 0:00:01\r\u001b[K     |████████████████████████████▏   | 634 kB 7.5 MB/s eta 0:00:01\r\u001b[K     |████████████████████████████▊   | 645 kB 7.5 MB/s eta 0:00:01\r\u001b[K     |█████████████████████████████▏  | 655 kB 7.5 MB/s eta 0:00:01\r\u001b[K     |█████████████████████████████▋  | 665 kB 7.5 MB/s eta 0:00:01\r\u001b[K     |██████████████████████████████  | 675 kB 7.5 MB/s eta 0:00:01\r\u001b[K     |██████████████████████████████▌ | 686 kB 7.5 MB/s eta 0:00:01\r\u001b[K     |███████████████████████████████ | 696 kB 7.5 MB/s eta 0:00:01\r\u001b[K     |███████████████████████████████▍| 706 kB 7.5 MB/s eta 0:00:01\r\u001b[K     |███████████████████████████████▉| 716 kB 7.5 MB/s eta 0:00:01\r\u001b[K     |████████████████████████████████| 720 kB 7.5 MB/s \n",
            "\u001b[K     |████████████████████████████████| 46 kB 5.4 MB/s \n",
            "\u001b[K     |████████████████████████████████| 1.2 MB 56.0 MB/s \n",
            "\u001b[K     |████████████████████████████████| 186 kB 73.3 MB/s \n",
            "\u001b[K     |████████████████████████████████| 56 kB 5.7 MB/s \n",
            "\u001b[K     |████████████████████████████████| 51 kB 429 kB/s \n",
            "\u001b[K     |████████████████████████████████| 455 kB 73.6 MB/s \n",
            "\u001b[31mERROR: pip's dependency resolver does not currently take into account all the packages that are installed. This behaviour is the source of the following dependency conflicts.\n",
            "voila 0.2.10 requires nbconvert<7,>=6.0.0, but you have nbconvert 5.6.1 which is incompatible.\n",
            "google-colab 1.0.0 requires tornado~=5.1.0; python_version >= \"3.0\", but you have tornado 6.1 which is incompatible.\u001b[0m\n",
            "\u001b[?25hMounted at /content/gdrive\n"
          ],
          "name": "stdout"
        }
      ]
    },
    {
      "cell_type": "code",
      "metadata": {
        "colab": {
          "base_uri": "https://localhost:8080/",
          "height": 34
        },
        "id": "Yhxd-L0buYtW",
        "outputId": "be48cc84-11fd-4e64-a6e2-ae725562ad1a"
      },
      "source": [
        "os.getcwd()"
      ],
      "execution_count": 6,
      "outputs": [
        {
          "output_type": "execute_result",
          "data": {
            "application/vnd.google.colaboratory.intrinsic+json": {
              "type": "string"
            },
            "text/plain": [
              "'/content'"
            ]
          },
          "metadata": {},
          "execution_count": 6
        }
      ]
    },
    {
      "cell_type": "code",
      "metadata": {
        "colab": {
          "base_uri": "https://localhost:8080/",
          "height": 34
        },
        "id": "nHeYyRkeuq9k",
        "outputId": "bfbaf3d1-bfea-4e59-96dd-109b4f21b1b5"
      },
      "source": [
        "os.chdir('/content/gdrive/MyDrive/')\n",
        "os.getcwd()"
      ],
      "execution_count": 7,
      "outputs": [
        {
          "output_type": "execute_result",
          "data": {
            "application/vnd.google.colaboratory.intrinsic+json": {
              "type": "string"
            },
            "text/plain": [
              "'/content/gdrive/MyDrive'"
            ]
          },
          "metadata": {},
          "execution_count": 7
        }
      ]
    },
    {
      "cell_type": "code",
      "metadata": {
        "colab": {
          "base_uri": "https://localhost:8080/",
          "height": 34
        },
        "id": "z1OvBrZlpkKh",
        "outputId": "9dced263-932c-4770-9ff1-c75639710d9b"
      },
      "source": [
        "# set the current path\n",
        "os.chdir('/content/gdrive/MyDrive/spider/')\n",
        "os.getcwd()"
      ],
      "execution_count": 8,
      "outputs": [
        {
          "output_type": "execute_result",
          "data": {
            "application/vnd.google.colaboratory.intrinsic+json": {
              "type": "string"
            },
            "text/plain": [
              "'/content/gdrive/MyDrive/spider'"
            ]
          },
          "metadata": {},
          "execution_count": 8
        }
      ]
    },
    {
      "cell_type": "code",
      "metadata": {
        "id": "zXDhcOyPp6pk"
      },
      "source": [
        "# setting the path to Path\n",
        "\n",
        "path = Path()\n",
        "learn_inf = load_learner('spider_model.pkl', cpu=True)"
      ],
      "execution_count": 9,
      "outputs": []
    },
    {
      "cell_type": "code",
      "metadata": {
        "colab": {
          "base_uri": "https://localhost:8080/",
          "height": 184
        },
        "id": "b-Scaev-r-y8",
        "outputId": "fef568fb-bac0-4d64-e001-aa70c082b26e"
      },
      "source": [
        "# try the learn_inf out\n",
        "\n",
        "learn_inf.predict('/content/gdrive/MyDrive/spider/brown-recluse.jpeg')"
      ],
      "execution_count": 10,
      "outputs": [
        {
          "output_type": "display_data",
          "data": {
            "text/html": [
              ""
            ],
            "text/plain": [
              "<IPython.core.display.HTML object>"
            ]
          },
          "metadata": {}
        },
        {
          "output_type": "stream",
          "text": [
            "/usr/local/lib/python3.7/dist-packages/PIL/TiffImagePlugin.py:788: UserWarning: Corrupt EXIF data.  Expecting to read 4 bytes but only got 0. \n",
            "  warnings.warn(str(msg))\n",
            "/usr/local/lib/python3.7/dist-packages/torch/nn/functional.py:718: UserWarning: Named tensors and all their associated APIs are an experimental feature and subject to change. Please do not use them for anything important until they are released as stable. (Triggered internally at  /pytorch/c10/core/TensorImpl.h:1156.)\n",
            "  return torch.max_pool2d(input, kernel_size, stride, padding, dilation, ceil_mode)\n"
          ],
          "name": "stderr"
        },
        {
          "output_type": "execute_result",
          "data": {
            "text/plain": [
              "('Brown Recluse',\n",
              " tensor(7),\n",
              " tensor([5.1672e-07, 3.4327e-08, 5.6193e-07, 1.1929e-06, 5.4423e-06, 4.3849e-05, 2.9229e-06, 7.5286e-01, 1.4637e-05, 1.0907e-05, 2.8852e-04, 2.6501e-06, 5.3818e-05, 2.1712e-06, 1.6166e-06, 7.7115e-06,\n",
              "         1.9577e-06, 2.9584e-07, 2.3985e-07, 1.1949e-04, 1.7512e-05, 1.4863e-06, 1.3716e-06, 9.1835e-05, 1.8895e-04, 1.2560e-05, 2.3186e-06, 5.4659e-04, 3.7145e-05, 6.1928e-08, 1.5380e-06, 1.0210e-05,\n",
              "         3.0169e-07, 1.0392e-05, 1.2547e-06, 2.5629e-05, 1.5165e-06, 2.5160e-04, 3.4323e-05, 2.8152e-05, 2.4532e-01]))"
            ]
          },
          "metadata": {},
          "execution_count": 10
        }
      ]
    },
    {
      "cell_type": "code",
      "metadata": {
        "colab": {
          "base_uri": "https://localhost:8080/"
        },
        "id": "nWwiARGVvl-w",
        "outputId": "9662896c-c17a-4819-f50f-3c1b76687ff3"
      },
      "source": [
        "# get the vocab of all spider species in our dataset\n",
        "learn_inf.dls.vocab"
      ],
      "execution_count": 11,
      "outputs": [
        {
          "output_type": "execute_result",
          "data": {
            "text/plain": [
              "['Arabesque Orb-weaver', 'Araneus miniatus', 'Ariadna bicolor', 'Arrow-shaped Micrathena', 'Arrowhead Orb-weaver', 'Banded Garden', 'Bold Jumper', 'Brown Recluse', 'Canopy Jumping', 'Castianeira amoena', 'Castianeira longipalpa', 'Cesonia bilineata', 'Common House', 'Dark Fishing', 'Dimorphic Jumper', 'Dolomedes vittatus', 'Emerald Jumping Spider', 'KENTUCKY PURSEWEB', 'Marpissa lineata', 'Meriola decepta', 'Northern Black Widow', 'Phidippus putnami', 'Red-spotted Orb-weaver', 'Rhomphaea fictilium', 'Sergiolus capulatus', 'Six-spotted Fishing', 'Southeastern Wandering', 'Southern Black Widow', 'Spintharus flavidus', 'Star-bellied Orb-weaver', 'Striped Fishing', 'Subsocial Tangle Web', 'Tan Jumping', 'Thanatus formicinus', 'Tiger Wolf (Tigrosa aspersa)', 'Tigrosa georgicola', 'Tigrosa helluo', 'Triangulate Cobweb', 'White-banded Crab', 'Yellow Garden', 'spider']"
            ]
          },
          "metadata": {},
          "execution_count": 11
        }
      ]
    },
    {
      "cell_type": "code",
      "metadata": {
        "id": "wgq8GwG1wSfi"
      },
      "source": [
        "# get the imagefrom the upload, display size 128, 128\n",
        "\n",
        "btn_upload = widgets.FileUpload()\n",
        "out_pl = widgets.Output()\n",
        "btn_run = widgets.Button(description='Classify')\n",
        "lbl_pred = widgets.Label()"
      ],
      "execution_count": 12,
      "outputs": []
    },
    {
      "cell_type": "code",
      "metadata": {
        "id": "A0ASxw3nxlu5"
      },
      "source": [
        "# define the function to put all the buttons together and make our app\n",
        "\n",
        "def on_click_classify(change):\n",
        "  img = PILImage.create(btn_upload.data[-1])\n",
        "  out_pl.clear_output()\n",
        "  with out_pl: display(img.to_thumb(128, 128))\n",
        "  pred,pred_idx,probs = learn_inf.predict(img)\n",
        "  lbl_pred.value = f'Predictions: {pred}; Probability: {probs[pred_idx]:.04f}'\n",
        "\n",
        "btn_run.on_click(on_click_classify)"
      ],
      "execution_count": 13,
      "outputs": []
    },
    {
      "cell_type": "code",
      "metadata": {
        "colab": {
          "base_uri": "https://localhost:8080/",
          "height": 257,
          "referenced_widgets": [
            "dc0430384ea147a485c0f1b6b49994cf",
            "f9b915adda814600bbadc54a0c095fee",
            "5e3be7e99dc94699bf2c15fc77219478",
            "45d0aaf9b05b46e380df143b7c2e6902",
            "7a8c7bdb887449498ad02a60628d204d",
            "caac3ff5939a4856b649d5a335ce92fe",
            "692d2990491e439a8bff3741a6df5485",
            "bee71c267d134c6bafd6c32417d50138",
            "47e97097cf8e4c48aafad5d0ff069ebd",
            "6e2f7b2b95eb4230899656a57c2c11bf",
            "6544ce6129d2441e87b2866f4d2066be",
            "dc7ff8ec99d54d93a705da9a867703dd",
            "beb31ed6133443d39e10f1691dad5bf8",
            "60468766198a46ab8c3d66afd3fbf19d",
            "84df8f248d754cecbce7e0a4c1645207",
            "bd71ced756aa4b1085f265f4ef285e6e"
          ]
        },
        "id": "dWC8kvey1EPa",
        "outputId": "e0898e79-88ca-41a4-9f66-6dac5cf5b479"
      },
      "source": [
        "VBox([widgets.Label('Select your spider!'),\n",
        "      btn_upload, btn_run, out_pl, lbl_pred])"
      ],
      "execution_count": 14,
      "outputs": [
        {
          "output_type": "display_data",
          "data": {
            "application/vnd.jupyter.widget-view+json": {
              "model_id": "dc0430384ea147a485c0f1b6b49994cf",
              "version_minor": 0,
              "version_major": 2
            },
            "text/plain": [
              "VBox(children=(Label(value='Select your spider!'), FileUpload(value={}, description='Upload'), Button(descript…"
            ]
          },
          "metadata": {}
        },
        {
          "output_type": "display_data",
          "data": {
            "text/html": [
              ""
            ],
            "text/plain": [
              "<IPython.core.display.HTML object>"
            ]
          },
          "metadata": {}
        }
      ]
    }
  ]
}
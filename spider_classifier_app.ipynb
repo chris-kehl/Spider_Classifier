{
  "nbformat": 4,
  "nbformat_minor": 0,
  "metadata": {
    "colab": {
      "name": "spider_classifier_app.ipynb",
      "provenance": [],
      "mount_file_id": "1aG5_t-jxHiBMKYtjzwe0iKPSAHT8piOm",
      "authorship_tag": "ABX9TyOh1jT8aMlmVRimWDy8CoAq",
      "include_colab_link": true
    },
    "kernelspec": {
      "name": "python3",
      "display_name": "Python 3"
    },
    "language_info": {
      "name": "python"
    },
    "accelerator": "GPU",
    "widgets": {
      "application/vnd.jupyter.widget-state+json": {
        "cc0e2b1dc8d74957a87cee151db845ac": {
          "model_module": "@jupyter-widgets/controls",
          "model_name": "VBoxModel",
          "model_module_version": "1.5.0",
          "state": {
            "_view_name": "VBoxView",
            "_dom_classes": [],
            "_model_name": "VBoxModel",
            "_view_module": "@jupyter-widgets/controls",
            "_model_module_version": "1.5.0",
            "_view_count": null,
            "_view_module_version": "1.5.0",
            "box_style": "",
            "layout": "IPY_MODEL_71dd168f1778431a9f0fc0f6d10cb2e4",
            "_model_module": "@jupyter-widgets/controls",
            "children": [
              "IPY_MODEL_b8bd8e2dc0334123b9c3e78f78fe6f4b",
              "IPY_MODEL_34fa58fb90f544faa56337d2d28143e6",
              "IPY_MODEL_2a8a33e17630464cae5bf7a9d272db30",
              "IPY_MODEL_d7d9fed367c34109a6d51dc6670f06c9",
              "IPY_MODEL_db19fac5e03b41c18130a531b4dac456"
            ]
          }
        },
        "71dd168f1778431a9f0fc0f6d10cb2e4": {
          "model_module": "@jupyter-widgets/base",
          "model_name": "LayoutModel",
          "model_module_version": "1.2.0",
          "state": {
            "_view_name": "LayoutView",
            "grid_template_rows": null,
            "right": null,
            "justify_content": null,
            "_view_module": "@jupyter-widgets/base",
            "overflow": null,
            "_model_module_version": "1.2.0",
            "_view_count": null,
            "flex_flow": null,
            "width": null,
            "min_width": null,
            "border": null,
            "align_items": null,
            "bottom": null,
            "_model_module": "@jupyter-widgets/base",
            "top": null,
            "grid_column": null,
            "overflow_y": null,
            "overflow_x": null,
            "grid_auto_flow": null,
            "grid_area": null,
            "grid_template_columns": null,
            "flex": null,
            "_model_name": "LayoutModel",
            "justify_items": null,
            "grid_row": null,
            "max_height": null,
            "align_content": null,
            "visibility": null,
            "align_self": null,
            "height": null,
            "min_height": null,
            "padding": null,
            "grid_auto_rows": null,
            "grid_gap": null,
            "max_width": null,
            "order": null,
            "_view_module_version": "1.2.0",
            "grid_template_areas": null,
            "object_position": null,
            "object_fit": null,
            "grid_auto_columns": null,
            "margin": null,
            "display": null,
            "left": null
          }
        },
        "b8bd8e2dc0334123b9c3e78f78fe6f4b": {
          "model_module": "@jupyter-widgets/controls",
          "model_name": "LabelModel",
          "model_module_version": "1.5.0",
          "state": {
            "_view_name": "LabelView",
            "style": "IPY_MODEL_a68f5160dfb54f18b91479ec87c89483",
            "_dom_classes": [],
            "description": "",
            "_model_name": "LabelModel",
            "placeholder": "​",
            "_view_module": "@jupyter-widgets/controls",
            "_model_module_version": "1.5.0",
            "value": "Select your spider!",
            "_view_count": null,
            "_view_module_version": "1.5.0",
            "description_tooltip": null,
            "_model_module": "@jupyter-widgets/controls",
            "layout": "IPY_MODEL_3223490011bb414292d007ea9b5c8c09"
          }
        },
        "34fa58fb90f544faa56337d2d28143e6": {
          "model_module": "@jupyter-widgets/controls",
          "model_name": "FileUploadModel",
          "model_module_version": "1.5.0",
          "state": {
            "_view_name": "FileUploadView",
            "_counter": 1,
            "style": "IPY_MODEL_ffeb120064764d7599304410d4b78c84",
            "_dom_classes": [],
            "description": "Upload",
            "multiple": false,
            "_model_name": "FileUploadModel",
            "data": [
              null
            ],
            "button_style": "",
            "_view_module": "@jupyter-widgets/controls",
            "_model_module_version": "1.5.0",
            "accept": "",
            "_view_count": null,
            "disabled": false,
            "_view_module_version": "1.5.0",
            "error": "",
            "description_tooltip": null,
            "metadata": [
              {
                "name": "orb_spider.png",
                "type": "image/png",
                "size": 7003545,
                "lastModified": 1629333642000
              }
            ],
            "_model_module": "@jupyter-widgets/controls",
            "layout": "IPY_MODEL_640d02fbe66c4f9d813fd9385147a84d",
            "icon": "upload"
          }
        },
        "2a8a33e17630464cae5bf7a9d272db30": {
          "model_module": "@jupyter-widgets/controls",
          "model_name": "ButtonModel",
          "model_module_version": "1.5.0",
          "state": {
            "_view_name": "ButtonView",
            "style": "IPY_MODEL_7e1857c99e8b4d1cafa5d5c7969e099f",
            "_dom_classes": [],
            "description": "Classify",
            "_model_name": "ButtonModel",
            "button_style": "",
            "_view_module": "@jupyter-widgets/controls",
            "_model_module_version": "1.5.0",
            "tooltip": "",
            "_view_count": null,
            "disabled": false,
            "_view_module_version": "1.5.0",
            "layout": "IPY_MODEL_abc37c898e46499ba91796b377815760",
            "_model_module": "@jupyter-widgets/controls",
            "icon": ""
          }
        },
        "d7d9fed367c34109a6d51dc6670f06c9": {
          "model_module": "@jupyter-widgets/output",
          "model_name": "OutputModel",
          "model_module_version": "1.0.0",
          "state": {
            "_view_name": "OutputView",
            "msg_id": "",
            "_dom_classes": [],
            "_model_name": "OutputModel",
            "outputs": [
              {
                "output_type": "display_data",
                "data": {
                  "image/png": "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\n",
                  "text/plain": [
                    "<PIL.Image.Image image mode=RGB size=96x128 at 0x7F2BA5C0AD10>"
                  ]
                },
                "metadata": {}
              }
            ],
            "_view_module": "@jupyter-widgets/output",
            "_model_module_version": "1.0.0",
            "_view_count": null,
            "_view_module_version": "1.0.0",
            "layout": "IPY_MODEL_d2ac00b5d3af42a7a894c5f2ff03f55e",
            "_model_module": "@jupyter-widgets/output"
          }
        },
        "db19fac5e03b41c18130a531b4dac456": {
          "model_module": "@jupyter-widgets/controls",
          "model_name": "LabelModel",
          "model_module_version": "1.5.0",
          "state": {
            "_view_name": "LabelView",
            "style": "IPY_MODEL_dbec28f5ef9a41058c793dbf8a37e496",
            "_dom_classes": [],
            "description": "",
            "_model_name": "LabelModel",
            "placeholder": "​",
            "_view_module": "@jupyter-widgets/controls",
            "_model_module_version": "1.5.0",
            "value": "Predictions: Yellow Garden; Probability: 0.9961",
            "_view_count": null,
            "_view_module_version": "1.5.0",
            "description_tooltip": null,
            "_model_module": "@jupyter-widgets/controls",
            "layout": "IPY_MODEL_981e646800044c5c8316908d96ade37f"
          }
        },
        "a68f5160dfb54f18b91479ec87c89483": {
          "model_module": "@jupyter-widgets/controls",
          "model_name": "DescriptionStyleModel",
          "model_module_version": "1.5.0",
          "state": {
            "_view_name": "StyleView",
            "_model_name": "DescriptionStyleModel",
            "description_width": "",
            "_view_module": "@jupyter-widgets/base",
            "_model_module_version": "1.5.0",
            "_view_count": null,
            "_view_module_version": "1.2.0",
            "_model_module": "@jupyter-widgets/controls"
          }
        },
        "3223490011bb414292d007ea9b5c8c09": {
          "model_module": "@jupyter-widgets/base",
          "model_name": "LayoutModel",
          "model_module_version": "1.2.0",
          "state": {
            "_view_name": "LayoutView",
            "grid_template_rows": null,
            "right": null,
            "justify_content": null,
            "_view_module": "@jupyter-widgets/base",
            "overflow": null,
            "_model_module_version": "1.2.0",
            "_view_count": null,
            "flex_flow": null,
            "width": null,
            "min_width": null,
            "border": null,
            "align_items": null,
            "bottom": null,
            "_model_module": "@jupyter-widgets/base",
            "top": null,
            "grid_column": null,
            "overflow_y": null,
            "overflow_x": null,
            "grid_auto_flow": null,
            "grid_area": null,
            "grid_template_columns": null,
            "flex": null,
            "_model_name": "LayoutModel",
            "justify_items": null,
            "grid_row": null,
            "max_height": null,
            "align_content": null,
            "visibility": null,
            "align_self": null,
            "height": null,
            "min_height": null,
            "padding": null,
            "grid_auto_rows": null,
            "grid_gap": null,
            "max_width": null,
            "order": null,
            "_view_module_version": "1.2.0",
            "grid_template_areas": null,
            "object_position": null,
            "object_fit": null,
            "grid_auto_columns": null,
            "margin": null,
            "display": null,
            "left": null
          }
        },
        "ffeb120064764d7599304410d4b78c84": {
          "model_module": "@jupyter-widgets/controls",
          "model_name": "ButtonStyleModel",
          "model_module_version": "1.5.0",
          "state": {
            "_view_name": "StyleView",
            "_model_name": "ButtonStyleModel",
            "_view_module": "@jupyter-widgets/base",
            "_model_module_version": "1.5.0",
            "_view_count": null,
            "button_color": null,
            "font_weight": "",
            "_view_module_version": "1.2.0",
            "_model_module": "@jupyter-widgets/controls"
          }
        },
        "640d02fbe66c4f9d813fd9385147a84d": {
          "model_module": "@jupyter-widgets/base",
          "model_name": "LayoutModel",
          "model_module_version": "1.2.0",
          "state": {
            "_view_name": "LayoutView",
            "grid_template_rows": null,
            "right": null,
            "justify_content": null,
            "_view_module": "@jupyter-widgets/base",
            "overflow": null,
            "_model_module_version": "1.2.0",
            "_view_count": null,
            "flex_flow": null,
            "width": null,
            "min_width": null,
            "border": null,
            "align_items": null,
            "bottom": null,
            "_model_module": "@jupyter-widgets/base",
            "top": null,
            "grid_column": null,
            "overflow_y": null,
            "overflow_x": null,
            "grid_auto_flow": null,
            "grid_area": null,
            "grid_template_columns": null,
            "flex": null,
            "_model_name": "LayoutModel",
            "justify_items": null,
            "grid_row": null,
            "max_height": null,
            "align_content": null,
            "visibility": null,
            "align_self": null,
            "height": null,
            "min_height": null,
            "padding": null,
            "grid_auto_rows": null,
            "grid_gap": null,
            "max_width": null,
            "order": null,
            "_view_module_version": "1.2.0",
            "grid_template_areas": null,
            "object_position": null,
            "object_fit": null,
            "grid_auto_columns": null,
            "margin": null,
            "display": null,
            "left": null
          }
        },
        "7e1857c99e8b4d1cafa5d5c7969e099f": {
          "model_module": "@jupyter-widgets/controls",
          "model_name": "ButtonStyleModel",
          "model_module_version": "1.5.0",
          "state": {
            "_view_name": "StyleView",
            "_model_name": "ButtonStyleModel",
            "_view_module": "@jupyter-widgets/base",
            "_model_module_version": "1.5.0",
            "_view_count": null,
            "button_color": null,
            "font_weight": "",
            "_view_module_version": "1.2.0",
            "_model_module": "@jupyter-widgets/controls"
          }
        },
        "abc37c898e46499ba91796b377815760": {
          "model_module": "@jupyter-widgets/base",
          "model_name": "LayoutModel",
          "model_module_version": "1.2.0",
          "state": {
            "_view_name": "LayoutView",
            "grid_template_rows": null,
            "right": null,
            "justify_content": null,
            "_view_module": "@jupyter-widgets/base",
            "overflow": null,
            "_model_module_version": "1.2.0",
            "_view_count": null,
            "flex_flow": null,
            "width": null,
            "min_width": null,
            "border": null,
            "align_items": null,
            "bottom": null,
            "_model_module": "@jupyter-widgets/base",
            "top": null,
            "grid_column": null,
            "overflow_y": null,
            "overflow_x": null,
            "grid_auto_flow": null,
            "grid_area": null,
            "grid_template_columns": null,
            "flex": null,
            "_model_name": "LayoutModel",
            "justify_items": null,
            "grid_row": null,
            "max_height": null,
            "align_content": null,
            "visibility": null,
            "align_self": null,
            "height": null,
            "min_height": null,
            "padding": null,
            "grid_auto_rows": null,
            "grid_gap": null,
            "max_width": null,
            "order": null,
            "_view_module_version": "1.2.0",
            "grid_template_areas": null,
            "object_position": null,
            "object_fit": null,
            "grid_auto_columns": null,
            "margin": null,
            "display": null,
            "left": null
          }
        },
        "dbec28f5ef9a41058c793dbf8a37e496": {
          "model_module": "@jupyter-widgets/controls",
          "model_name": "DescriptionStyleModel",
          "model_module_version": "1.5.0",
          "state": {
            "_view_name": "StyleView",
            "_model_name": "DescriptionStyleModel",
            "description_width": "",
            "_view_module": "@jupyter-widgets/base",
            "_model_module_version": "1.5.0",
            "_view_count": null,
            "_view_module_version": "1.2.0",
            "_model_module": "@jupyter-widgets/controls"
          }
        },
        "981e646800044c5c8316908d96ade37f": {
          "model_module": "@jupyter-widgets/base",
          "model_name": "LayoutModel",
          "model_module_version": "1.2.0",
          "state": {
            "_view_name": "LayoutView",
            "grid_template_rows": null,
            "right": null,
            "justify_content": null,
            "_view_module": "@jupyter-widgets/base",
            "overflow": null,
            "_model_module_version": "1.2.0",
            "_view_count": null,
            "flex_flow": null,
            "width": null,
            "min_width": null,
            "border": null,
            "align_items": null,
            "bottom": null,
            "_model_module": "@jupyter-widgets/base",
            "top": null,
            "grid_column": null,
            "overflow_y": null,
            "overflow_x": null,
            "grid_auto_flow": null,
            "grid_area": null,
            "grid_template_columns": null,
            "flex": null,
            "_model_name": "LayoutModel",
            "justify_items": null,
            "grid_row": null,
            "max_height": null,
            "align_content": null,
            "visibility": null,
            "align_self": null,
            "height": null,
            "min_height": null,
            "padding": null,
            "grid_auto_rows": null,
            "grid_gap": null,
            "max_width": null,
            "order": null,
            "_view_module_version": "1.2.0",
            "grid_template_areas": null,
            "object_position": null,
            "object_fit": null,
            "grid_auto_columns": null,
            "margin": null,
            "display": null,
            "left": null
          }
        },
        "d2ac00b5d3af42a7a894c5f2ff03f55e": {
          "model_module": "@jupyter-widgets/base",
          "model_name": "LayoutModel",
          "model_module_version": "1.2.0",
          "state": {
            "_view_name": "LayoutView",
            "grid_template_rows": null,
            "right": null,
            "justify_content": null,
            "_view_module": "@jupyter-widgets/base",
            "overflow": null,
            "_model_module_version": "1.2.0",
            "_view_count": null,
            "flex_flow": null,
            "width": null,
            "min_width": null,
            "border": null,
            "align_items": null,
            "bottom": null,
            "_model_module": "@jupyter-widgets/base",
            "top": null,
            "grid_column": null,
            "overflow_y": null,
            "overflow_x": null,
            "grid_auto_flow": null,
            "grid_area": null,
            "grid_template_columns": null,
            "flex": null,
            "_model_name": "LayoutModel",
            "justify_items": null,
            "grid_row": null,
            "max_height": null,
            "align_content": null,
            "visibility": null,
            "align_self": null,
            "height": null,
            "min_height": null,
            "padding": null,
            "grid_auto_rows": null,
            "grid_gap": null,
            "max_width": null,
            "order": null,
            "_view_module_version": "1.2.0",
            "grid_template_areas": null,
            "object_position": null,
            "object_fit": null,
            "grid_auto_columns": null,
            "margin": null,
            "display": null,
            "left": null
          }
        }
      }
    }
  },
  "cells": [
    {
      "cell_type": "markdown",
      "metadata": {
        "id": "view-in-github",
        "colab_type": "text"
      },
      "source": [
        "<a href=\"https://colab.research.google.com/github/chris-kehl/Spider_Classifier/blob/main/spider_classifier_app.ipynb\" target=\"_parent\"><img src=\"https://colab.research.google.com/assets/colab-badge.svg\" alt=\"Open In Colab\"/></a>"
      ]
    },
    {
      "cell_type": "code",
      "metadata": {
        "colab": {
          "base_uri": "https://localhost:8080/"
        },
        "id": "KOvAgvUjtCqd",
        "outputId": "95573416-07e1-4bdc-b29c-c5da5d3805ee"
      },
      "source": [
        "!pip install -Uqq fastbook\n",
        "!pip install voila\n",
        "!jupyter serverextension enable --sys-prefix voila\n",
        "\n",
        "\n",
        "import fastbook\n",
        "import warnings\n",
        "import os \n",
        "fastbook.setup_book()\n",
        "from fastai.vision.all import *\n",
        "from fastbook import *\n",
        "from fastai.vision.widgets import *"
      ],
      "execution_count": null,
      "outputs": [
        {
          "output_type": "stream",
          "text": [
            "\u001b[?25l\r\u001b[K     |▊                               | 10 kB 31.9 MB/s eta 0:00:01\r\u001b[K     |█▍                              | 20 kB 17.2 MB/s eta 0:00:01\r\u001b[K     |██▏                             | 30 kB 10.3 MB/s eta 0:00:01\r\u001b[K     |██▉                             | 40 kB 8.7 MB/s eta 0:00:01\r\u001b[K     |███▋                            | 51 kB 4.9 MB/s eta 0:00:01\r\u001b[K     |████▎                           | 61 kB 5.4 MB/s eta 0:00:01\r\u001b[K     |█████                           | 71 kB 5.3 MB/s eta 0:00:01\r\u001b[K     |█████▊                          | 81 kB 6.0 MB/s eta 0:00:01\r\u001b[K     |██████▌                         | 92 kB 4.5 MB/s eta 0:00:01\r\u001b[K     |███████▏                        | 102 kB 4.9 MB/s eta 0:00:01\r\u001b[K     |████████                        | 112 kB 4.9 MB/s eta 0:00:01\r\u001b[K     |████████▋                       | 122 kB 4.9 MB/s eta 0:00:01\r\u001b[K     |█████████▍                      | 133 kB 4.9 MB/s eta 0:00:01\r\u001b[K     |██████████                      | 143 kB 4.9 MB/s eta 0:00:01\r\u001b[K     |██████████▉                     | 153 kB 4.9 MB/s eta 0:00:01\r\u001b[K     |███████████▌                    | 163 kB 4.9 MB/s eta 0:00:01\r\u001b[K     |████████████▎                   | 174 kB 4.9 MB/s eta 0:00:01\r\u001b[K     |█████████████                   | 184 kB 4.9 MB/s eta 0:00:01\r\u001b[K     |█████████████▊                  | 194 kB 4.9 MB/s eta 0:00:01\r\u001b[K     |██████████████▍                 | 204 kB 4.9 MB/s eta 0:00:01\r\u001b[K     |███████████████▏                | 215 kB 4.9 MB/s eta 0:00:01\r\u001b[K     |███████████████▉                | 225 kB 4.9 MB/s eta 0:00:01\r\u001b[K     |████████████████▋               | 235 kB 4.9 MB/s eta 0:00:01\r\u001b[K     |█████████████████▎              | 245 kB 4.9 MB/s eta 0:00:01\r\u001b[K     |██████████████████              | 256 kB 4.9 MB/s eta 0:00:01\r\u001b[K     |██████████████████▊             | 266 kB 4.9 MB/s eta 0:00:01\r\u001b[K     |███████████████████▍            | 276 kB 4.9 MB/s eta 0:00:01\r\u001b[K     |████████████████████▏           | 286 kB 4.9 MB/s eta 0:00:01\r\u001b[K     |████████████████████▉           | 296 kB 4.9 MB/s eta 0:00:01\r\u001b[K     |█████████████████████▋          | 307 kB 4.9 MB/s eta 0:00:01\r\u001b[K     |██████████████████████▎         | 317 kB 4.9 MB/s eta 0:00:01\r\u001b[K     |███████████████████████         | 327 kB 4.9 MB/s eta 0:00:01\r\u001b[K     |███████████████████████▊        | 337 kB 4.9 MB/s eta 0:00:01\r\u001b[K     |████████████████████████▌       | 348 kB 4.9 MB/s eta 0:00:01\r\u001b[K     |█████████████████████████▏      | 358 kB 4.9 MB/s eta 0:00:01\r\u001b[K     |██████████████████████████      | 368 kB 4.9 MB/s eta 0:00:01\r\u001b[K     |██████████████████████████▋     | 378 kB 4.9 MB/s eta 0:00:01\r\u001b[K     |███████████████████████████▍    | 389 kB 4.9 MB/s eta 0:00:01\r\u001b[K     |████████████████████████████    | 399 kB 4.9 MB/s eta 0:00:01\r\u001b[K     |████████████████████████████▉   | 409 kB 4.9 MB/s eta 0:00:01\r\u001b[K     |█████████████████████████████▌  | 419 kB 4.9 MB/s eta 0:00:01\r\u001b[K     |██████████████████████████████▎ | 430 kB 4.9 MB/s eta 0:00:01\r\u001b[K     |███████████████████████████████ | 440 kB 4.9 MB/s eta 0:00:01\r\u001b[K     |███████████████████████████████▊| 450 kB 4.9 MB/s eta 0:00:01\r\u001b[K     |████████████████████████████████| 455 kB 4.9 MB/s \n",
            "\u001b[31mERROR: pip's dependency resolver does not currently take into account all the packages that are installed. This behaviour is the source of the following dependency conflicts.\n",
            "voila 0.2.10 requires nbconvert<7,>=6.0.0, but you have nbconvert 5.6.1 which is incompatible.\n",
            "google-colab 1.0.0 requires tornado~=5.1.0; python_version >= \"3.0\", but you have tornado 6.1 which is incompatible.\u001b[0m\n",
            "\u001b[?25hRequirement already satisfied: voila in /usr/local/lib/python3.7/dist-packages (0.2.10)\n",
            "Requirement already satisfied: jupyter-server<2.0.0,>=0.3.0 in /usr/local/lib/python3.7/dist-packages (from voila) (1.10.2)\n",
            "Collecting nbconvert<7,>=6.0.0\n",
            "  Using cached nbconvert-6.1.0-py3-none-any.whl (551 kB)\n",
            "Requirement already satisfied: nbclient<0.6,>=0.4.0 in /usr/local/lib/python3.7/dist-packages (from voila) (0.5.4)\n",
            "Requirement already satisfied: jupyter-client<7,>=6.1.3 in /usr/local/lib/python3.7/dist-packages (from voila) (6.1.12)\n",
            "Requirement already satisfied: pyzmq>=13 in /usr/local/lib/python3.7/dist-packages (from jupyter-client<7,>=6.1.3->voila) (22.2.1)\n",
            "Requirement already satisfied: jupyter-core>=4.6.0 in /usr/local/lib/python3.7/dist-packages (from jupyter-client<7,>=6.1.3->voila) (4.7.1)\n",
            "Requirement already satisfied: python-dateutil>=2.1 in /usr/local/lib/python3.7/dist-packages (from jupyter-client<7,>=6.1.3->voila) (2.8.2)\n",
            "Requirement already satisfied: tornado>=4.1 in /usr/local/lib/python3.7/dist-packages (from jupyter-client<7,>=6.1.3->voila) (6.1)\n",
            "Requirement already satisfied: traitlets in /usr/local/lib/python3.7/dist-packages (from jupyter-client<7,>=6.1.3->voila) (5.0.5)\n",
            "Requirement already satisfied: nbformat in /usr/local/lib/python3.7/dist-packages (from jupyter-server<2.0.0,>=0.3.0->voila) (5.1.3)\n",
            "Requirement already satisfied: prometheus-client in /usr/local/lib/python3.7/dist-packages (from jupyter-server<2.0.0,>=0.3.0->voila) (0.11.0)\n",
            "Requirement already satisfied: anyio<4,>=3.1.0 in /usr/local/lib/python3.7/dist-packages (from jupyter-server<2.0.0,>=0.3.0->voila) (3.3.0)\n",
            "Requirement already satisfied: websocket-client in /usr/local/lib/python3.7/dist-packages (from jupyter-server<2.0.0,>=0.3.0->voila) (1.2.1)\n",
            "Requirement already satisfied: argon2-cffi in /usr/local/lib/python3.7/dist-packages (from jupyter-server<2.0.0,>=0.3.0->voila) (20.1.0)\n",
            "Requirement already satisfied: Send2Trash in /usr/local/lib/python3.7/dist-packages (from jupyter-server<2.0.0,>=0.3.0->voila) (1.8.0)\n",
            "Requirement already satisfied: jinja2 in /usr/local/lib/python3.7/dist-packages (from jupyter-server<2.0.0,>=0.3.0->voila) (2.11.3)\n",
            "Requirement already satisfied: ipython-genutils in /usr/local/lib/python3.7/dist-packages (from jupyter-server<2.0.0,>=0.3.0->voila) (0.2.0)\n",
            "Requirement already satisfied: requests-unixsocket in /usr/local/lib/python3.7/dist-packages (from jupyter-server<2.0.0,>=0.3.0->voila) (0.2.0)\n",
            "Requirement already satisfied: terminado>=0.8.3 in /usr/local/lib/python3.7/dist-packages (from jupyter-server<2.0.0,>=0.3.0->voila) (0.11.0)\n",
            "Requirement already satisfied: sniffio>=1.1 in /usr/local/lib/python3.7/dist-packages (from anyio<4,>=3.1.0->jupyter-server<2.0.0,>=0.3.0->voila) (1.2.0)\n",
            "Requirement already satisfied: typing-extensions in /usr/local/lib/python3.7/dist-packages (from anyio<4,>=3.1.0->jupyter-server<2.0.0,>=0.3.0->voila) (3.7.4.3)\n",
            "Requirement already satisfied: idna>=2.8 in /usr/local/lib/python3.7/dist-packages (from anyio<4,>=3.1.0->jupyter-server<2.0.0,>=0.3.0->voila) (2.10)\n",
            "Requirement already satisfied: nest-asyncio in /usr/local/lib/python3.7/dist-packages (from nbclient<0.6,>=0.4.0->voila) (1.5.1)\n",
            "Requirement already satisfied: testpath in /usr/local/lib/python3.7/dist-packages (from nbconvert<7,>=6.0.0->voila) (0.5.0)\n",
            "Requirement already satisfied: defusedxml in /usr/local/lib/python3.7/dist-packages (from nbconvert<7,>=6.0.0->voila) (0.7.1)\n",
            "Requirement already satisfied: pandocfilters>=1.4.1 in /usr/local/lib/python3.7/dist-packages (from nbconvert<7,>=6.0.0->voila) (1.4.3)\n",
            "Requirement already satisfied: entrypoints>=0.2.2 in /usr/local/lib/python3.7/dist-packages (from nbconvert<7,>=6.0.0->voila) (0.3)\n",
            "Requirement already satisfied: mistune<2,>=0.8.1 in /usr/local/lib/python3.7/dist-packages (from nbconvert<7,>=6.0.0->voila) (0.8.4)\n",
            "Requirement already satisfied: bleach in /usr/local/lib/python3.7/dist-packages (from nbconvert<7,>=6.0.0->voila) (4.0.0)\n",
            "Requirement already satisfied: jupyterlab-pygments in /usr/local/lib/python3.7/dist-packages (from nbconvert<7,>=6.0.0->voila) (0.1.2)\n",
            "Requirement already satisfied: pygments>=2.4.1 in /usr/local/lib/python3.7/dist-packages (from nbconvert<7,>=6.0.0->voila) (2.6.1)\n",
            "Requirement already satisfied: MarkupSafe>=0.23 in /usr/local/lib/python3.7/dist-packages (from jinja2->jupyter-server<2.0.0,>=0.3.0->voila) (2.0.1)\n",
            "Requirement already satisfied: jsonschema!=2.5.0,>=2.4 in /usr/local/lib/python3.7/dist-packages (from nbformat->jupyter-server<2.0.0,>=0.3.0->voila) (2.6.0)\n",
            "Requirement already satisfied: six>=1.5 in /usr/local/lib/python3.7/dist-packages (from python-dateutil>=2.1->jupyter-client<7,>=6.1.3->voila) (1.15.0)\n",
            "Requirement already satisfied: ptyprocess in /usr/local/lib/python3.7/dist-packages (from terminado>=0.8.3->jupyter-server<2.0.0,>=0.3.0->voila) (0.7.0)\n",
            "Requirement already satisfied: cffi>=1.0.0 in /usr/local/lib/python3.7/dist-packages (from argon2-cffi->jupyter-server<2.0.0,>=0.3.0->voila) (1.14.6)\n",
            "Requirement already satisfied: pycparser in /usr/local/lib/python3.7/dist-packages (from cffi>=1.0.0->argon2-cffi->jupyter-server<2.0.0,>=0.3.0->voila) (2.20)\n",
            "Requirement already satisfied: packaging in /usr/local/lib/python3.7/dist-packages (from bleach->nbconvert<7,>=6.0.0->voila) (21.0)\n",
            "Requirement already satisfied: webencodings in /usr/local/lib/python3.7/dist-packages (from bleach->nbconvert<7,>=6.0.0->voila) (0.5.1)\n",
            "Requirement already satisfied: pyparsing>=2.0.2 in /usr/local/lib/python3.7/dist-packages (from packaging->bleach->nbconvert<7,>=6.0.0->voila) (2.4.7)\n",
            "Requirement already satisfied: requests>=1.1 in /usr/local/lib/python3.7/dist-packages (from requests-unixsocket->jupyter-server<2.0.0,>=0.3.0->voila) (2.23.0)\n",
            "Requirement already satisfied: urllib3>=1.8 in /usr/local/lib/python3.7/dist-packages (from requests-unixsocket->jupyter-server<2.0.0,>=0.3.0->voila) (1.24.3)\n",
            "Requirement already satisfied: chardet<4,>=3.0.2 in /usr/local/lib/python3.7/dist-packages (from requests>=1.1->requests-unixsocket->jupyter-server<2.0.0,>=0.3.0->voila) (3.0.4)\n",
            "Requirement already satisfied: certifi>=2017.4.17 in /usr/local/lib/python3.7/dist-packages (from requests>=1.1->requests-unixsocket->jupyter-server<2.0.0,>=0.3.0->voila) (2021.5.30)\n",
            "Installing collected packages: nbconvert\n",
            "  Attempting uninstall: nbconvert\n",
            "    Found existing installation: nbconvert 5.6.1\n",
            "    Uninstalling nbconvert-5.6.1:\n",
            "      Successfully uninstalled nbconvert-5.6.1\n",
            "\u001b[31mERROR: pip's dependency resolver does not currently take into account all the packages that are installed. This behaviour is the source of the following dependency conflicts.\n",
            "nbdev 1.1.21 requires nbconvert<6, but you have nbconvert 6.1.0 which is incompatible.\n",
            "google-colab 1.0.0 requires tornado~=5.1.0; python_version >= \"3.0\", but you have tornado 6.1 which is incompatible.\u001b[0m\n",
            "Successfully installed nbconvert-6.1.0\n",
            "Enabling: voila\n",
            "- Writing config: /usr/etc/jupyter\n",
            "    - Validating...\n",
            "Error loading server extension voila\n",
            "     \u001b[31m X\u001b[0m is voila importable?\n",
            "Mounted at /content/gdrive\n"
          ],
          "name": "stdout"
        }
      ]
    },
    {
      "cell_type": "code",
      "metadata": {
        "colab": {
          "base_uri": "https://localhost:8080/",
          "height": 37
        },
        "id": "Yhxd-L0buYtW",
        "outputId": "1e2c4890-7511-4bae-bc92-5dfa93f6aa85"
      },
      "source": [
        "os.getcwd()"
      ],
      "execution_count": null,
      "outputs": [
        {
          "output_type": "execute_result",
          "data": {
            "application/vnd.google.colaboratory.intrinsic+json": {
              "type": "string"
            },
            "text/plain": [
              "'/content'"
            ]
          },
          "metadata": {},
          "execution_count": 2
        }
      ]
    },
    {
      "cell_type": "code",
      "metadata": {
        "colab": {
          "base_uri": "https://localhost:8080/",
          "height": 37
        },
        "id": "nHeYyRkeuq9k",
        "outputId": "c4633e9c-c6da-48bd-fb2e-96ddc42869c1"
      },
      "source": [
        "os.chdir('/content/gdrive/MyDrive/')\n",
        "os.getcwd()"
      ],
      "execution_count": null,
      "outputs": [
        {
          "output_type": "execute_result",
          "data": {
            "application/vnd.google.colaboratory.intrinsic+json": {
              "type": "string"
            },
            "text/plain": [
              "'/content/gdrive/MyDrive'"
            ]
          },
          "metadata": {},
          "execution_count": 3
        }
      ]
    },
    {
      "cell_type": "code",
      "metadata": {
        "colab": {
          "base_uri": "https://localhost:8080/",
          "height": 37
        },
        "id": "z1OvBrZlpkKh",
        "outputId": "c4f9277a-58c3-454a-eff7-b7b3f10fdad8"
      },
      "source": [
        "# set the current path\n",
        "os.chdir('/content/gdrive/MyDrive/spider/')\n",
        "os.getcwd()"
      ],
      "execution_count": null,
      "outputs": [
        {
          "output_type": "execute_result",
          "data": {
            "application/vnd.google.colaboratory.intrinsic+json": {
              "type": "string"
            },
            "text/plain": [
              "'/content/gdrive/MyDrive/spider'"
            ]
          },
          "metadata": {},
          "execution_count": 4
        }
      ]
    },
    {
      "cell_type": "code",
      "metadata": {
        "id": "zXDhcOyPp6pk"
      },
      "source": [
        "# setting the path to Path\n",
        "\n",
        "path = Path()\n",
        "learn_inf = load_learner('spider_model.pkl', cpu=True)"
      ],
      "execution_count": null,
      "outputs": []
    },
    {
      "cell_type": "code",
      "metadata": {
        "colab": {
          "base_uri": "https://localhost:8080/",
          "height": 190
        },
        "id": "b-Scaev-r-y8",
        "outputId": "1464d65a-33a5-4222-fb19-563eef323096"
      },
      "source": [
        "# try the learn_inf out\n",
        "\n",
        "learn_inf.predict('/content/gdrive/MyDrive/spider/brown-recluse.jpeg')"
      ],
      "execution_count": null,
      "outputs": [
        {
          "output_type": "display_data",
          "data": {
            "text/html": [
              ""
            ],
            "text/plain": [
              "<IPython.core.display.HTML object>"
            ]
          },
          "metadata": {}
        },
        {
          "output_type": "stream",
          "text": [
            "/usr/local/lib/python3.7/dist-packages/PIL/TiffImagePlugin.py:788: UserWarning: Corrupt EXIF data.  Expecting to read 4 bytes but only got 0. \n",
            "  warnings.warn(str(msg))\n",
            "/usr/local/lib/python3.7/dist-packages/torch/nn/functional.py:718: UserWarning: Named tensors and all their associated APIs are an experimental feature and subject to change. Please do not use them for anything important until they are released as stable. (Triggered internally at  /pytorch/c10/core/TensorImpl.h:1156.)\n",
            "  return torch.max_pool2d(input, kernel_size, stride, padding, dilation, ceil_mode)\n"
          ],
          "name": "stderr"
        },
        {
          "output_type": "execute_result",
          "data": {
            "text/plain": [
              "('Brown Recluse',\n",
              " tensor(7),\n",
              " tensor([1.3986e-12, 1.1552e-13, 7.0483e-10, 6.4948e-12, 6.9613e-13, 8.8150e-11, 1.3570e-11, 1.0000e+00, 1.8896e-13, 1.2229e-11, 3.8720e-11, 8.2505e-13, 3.6779e-09, 3.5701e-12, 1.6698e-12, 2.9840e-10,\n",
              "         6.2027e-13, 1.0089e-10, 8.6937e-11, 1.2024e-10, 8.6760e-10, 4.1211e-12, 1.4588e-12, 1.8535e-10, 3.9608e-10, 4.5631e-10, 1.3806e-09, 5.0984e-10, 1.9849e-10, 3.5037e-12, 9.2851e-11, 1.2306e-08,\n",
              "         5.1578e-13, 2.6741e-10, 1.2638e-10, 2.2115e-12, 2.3713e-10, 5.2330e-11, 4.4811e-10, 1.7380e-10]))"
            ]
          },
          "metadata": {},
          "execution_count": 6
        }
      ]
    },
    {
      "cell_type": "code",
      "metadata": {
        "colab": {
          "base_uri": "https://localhost:8080/"
        },
        "id": "nWwiARGVvl-w",
        "outputId": "81c6914a-3b64-4e05-acd4-3843e6f5ec1f"
      },
      "source": [
        "# get the vocab of all spider species in our dataset\n",
        "learn_inf.dls.vocab"
      ],
      "execution_count": null,
      "outputs": [
        {
          "output_type": "execute_result",
          "data": {
            "text/plain": [
              "['Arabesque Orb-weaver', 'Araneus miniatus', 'Ariadna bicolor', 'Arrow-shaped Micrathena', 'Arrowhead Orb-weaver', 'Banded Garden', 'Bold Jumper', 'Brown Recluse', 'Canopy Jumping', 'Castianeira amoena', 'Castianeira longipalpa', 'Cesonia bilineata', 'Common House', 'Dark Fishing', 'Dimorphic Jumper', 'Dolomedes vittatus', 'Emerald Jumping Spider', 'KENTUCKY PURSEWEB', 'Marpissa lineata', 'Meriola decepta', 'Northern Black Widow', 'Phidippus putnami', 'Red-spotted Orb-weaver', 'Rhomphaea fictilium', 'Sergiolus capulatus', 'Six-spotted Fishing', 'Southeastern Wandering', 'Southern Black Widow', 'Spintharus flavidus', 'Star-bellied Orb-weaver', 'Striped Fishing', 'Subsocial Tangle Web', 'Tan Jumping', 'Thanatus formicinus', 'Tiger Wolf (Tigrosa aspersa)', 'Tigrosa georgicola', 'Tigrosa helluo', 'Triangulate Cobweb', 'White-banded Crab', 'Yellow Garden']"
            ]
          },
          "metadata": {},
          "execution_count": 7
        }
      ]
    },
    {
      "cell_type": "code",
      "metadata": {
        "id": "wgq8GwG1wSfi"
      },
      "source": [
        "# get the imagefrom the upload, display size 128, 128\n",
        "\n",
        "btn_upload = widgets.FileUpload()\n",
        "out_pl = widgets.Output()\n",
        "btn_run = widgets.Button(description='Classify')\n",
        "lbl_pred = widgets.Label()"
      ],
      "execution_count": null,
      "outputs": []
    },
    {
      "cell_type": "code",
      "metadata": {
        "id": "A0ASxw3nxlu5"
      },
      "source": [
        "# define the function to put all the buttons together and make our app\n",
        "\n",
        "def on_click_classify(change):\n",
        "  img = PILImage.create(btn_upload.data[-1])\n",
        "  out_pl.clear_output()\n",
        "  with out_pl: display(img.to_thumb(128, 128))\n",
        "  pred,pred_idx,probs = learn_inf.predict(img)\n",
        "  lbl_pred.value = f'Predictions: {pred}; Probability: {probs[pred_idx]:.04f}'\n",
        "\n",
        "btn_run.on_click(on_click_classify)"
      ],
      "execution_count": null,
      "outputs": []
    },
    {
      "cell_type": "code",
      "metadata": {
        "colab": {
          "base_uri": "https://localhost:8080/",
          "height": 273,
          "referenced_widgets": [
            "cc0e2b1dc8d74957a87cee151db845ac",
            "71dd168f1778431a9f0fc0f6d10cb2e4",
            "b8bd8e2dc0334123b9c3e78f78fe6f4b",
            "34fa58fb90f544faa56337d2d28143e6",
            "2a8a33e17630464cae5bf7a9d272db30",
            "d7d9fed367c34109a6d51dc6670f06c9",
            "db19fac5e03b41c18130a531b4dac456",
            "a68f5160dfb54f18b91479ec87c89483",
            "3223490011bb414292d007ea9b5c8c09",
            "ffeb120064764d7599304410d4b78c84",
            "640d02fbe66c4f9d813fd9385147a84d",
            "7e1857c99e8b4d1cafa5d5c7969e099f",
            "abc37c898e46499ba91796b377815760",
            "dbec28f5ef9a41058c793dbf8a37e496",
            "981e646800044c5c8316908d96ade37f",
            "d2ac00b5d3af42a7a894c5f2ff03f55e"
          ]
        },
        "id": "dWC8kvey1EPa",
        "outputId": "782cd5d7-b5f5-4b1b-aab7-90979f7f4054"
      },
      "source": [
        "# you use upload to upload the image of your spider, then click classify to get the results\n",
        "VBox([widgets.Label('Select your spider!'),\n",
        "      btn_upload, btn_run, out_pl, lbl_pred])"
      ],
      "execution_count": null,
      "outputs": [
        {
          "output_type": "display_data",
          "data": {
            "application/vnd.jupyter.widget-view+json": {
              "model_id": "cc0e2b1dc8d74957a87cee151db845ac",
              "version_minor": 0,
              "version_major": 2
            },
            "text/plain": [
              "VBox(children=(Label(value='Select your spider!'), FileUpload(value={}, description='Upload'), Button(descript…"
            ]
          },
          "metadata": {}
        },
        {
          "output_type": "display_data",
          "data": {
            "text/html": [
              ""
            ],
            "text/plain": [
              "<IPython.core.display.HTML object>"
            ]
          },
          "metadata": {}
        }
      ]
    }
  ]
}